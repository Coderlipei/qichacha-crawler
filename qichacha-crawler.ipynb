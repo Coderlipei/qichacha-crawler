{
 "cells": [
  {
   "cell_type": "markdown",
   "metadata": {
    "toc": true
   },
   "source": [
    "<h1>Table of Contents<span class=\"tocSkip\"></span></h1>\n",
    "<div class=\"toc\"><ul class=\"toc-item\"><li><span><a href=\"#Set-cookies\" data-toc-modified-id=\"Set-cookies-1\"><span class=\"toc-item-num\">1&nbsp;&nbsp;</span>Set cookies</a></span></li><li><span><a href=\"#Function-to-get-firm-uid\" data-toc-modified-id=\"Function-to-get-firm-uid-2\"><span class=\"toc-item-num\">2&nbsp;&nbsp;</span>Function to get firm uid</a></span></li><li><span><a href=\"#Functions-to-get-base-information\" data-toc-modified-id=\"Functions-to-get-base-information-3\"><span class=\"toc-item-num\">3&nbsp;&nbsp;</span>Functions to get base information</a></span></li><li><span><a href=\"#Get-base-info-and-save\" data-toc-modified-id=\"Get-base-info-and-save-4\"><span class=\"toc-item-num\">4&nbsp;&nbsp;</span>Get base info and save</a></span></li><li><span><a href=\"#Get-adv-info-and-save\" data-toc-modified-id=\"Get-adv-info-and-save-5\"><span class=\"toc-item-num\">5&nbsp;&nbsp;</span>Get adv info and save</a></span></li><li><span><a href=\"#Combine-base-and-adv-info\" data-toc-modified-id=\"Combine-base-and-adv-info-6\"><span class=\"toc-item-num\">6&nbsp;&nbsp;</span>Combine base and adv info</a></span></li><li><span><a href=\"#Write-into-excel-file\" data-toc-modified-id=\"Write-into-excel-file-7\"><span class=\"toc-item-num\">7&nbsp;&nbsp;</span>Write into excel file</a></span></li></ul></div>"
   ]
  },
  {
   "cell_type": "code",
   "execution_count": 1,
   "metadata": {},
   "outputs": [],
   "source": [
    "%load_ext autoreload\n",
    "%autoreload 2"
   ]
  },
  {
   "cell_type": "code",
   "execution_count": 2,
   "metadata": {},
   "outputs": [
    {
     "ename": "ModuleNotFoundError",
     "evalue": "No module named 'utils'",
     "output_type": "error",
     "traceback": [
      "\u001b[0;31m---------------------------------------------------------------------------\u001b[0m",
      "\u001b[0;31mModuleNotFoundError\u001b[0m                       Traceback (most recent call last)",
      "\u001b[0;32m<ipython-input-2-c448f2c95806>\u001b[0m in \u001b[0;36m<module>\u001b[0;34m\u001b[0m\n\u001b[1;32m      6\u001b[0m \u001b[0;32mimport\u001b[0m \u001b[0mpandas\u001b[0m \u001b[0;32mas\u001b[0m \u001b[0mpd\u001b[0m\u001b[0;34m\u001b[0m\u001b[0;34m\u001b[0m\u001b[0m\n\u001b[1;32m      7\u001b[0m \u001b[0;32mimport\u001b[0m \u001b[0mopenpyxl\u001b[0m\u001b[0;34m\u001b[0m\u001b[0;34m\u001b[0m\u001b[0m\n\u001b[0;32m----> 8\u001b[0;31m \u001b[0;32mfrom\u001b[0m \u001b[0mutils\u001b[0m \u001b[0;32mimport\u001b[0m \u001b[0;34m*\u001b[0m\u001b[0;34m\u001b[0m\u001b[0;34m\u001b[0m\u001b[0m\n\u001b[0m",
      "\u001b[0;31mModuleNotFoundError\u001b[0m: No module named 'utils'"
     ]
    }
   ],
   "source": [
    "from bs4 import BeautifulSoup\n",
    "from urllib import parse\n",
    "import requests\n",
    "from tqdm import tqdm_notebook\n",
    "from time import sleep\n",
    "import pandas as pd\n",
    "import openpyxl\n",
    "from utils import *"
   ]
  },
  {
   "cell_type": "markdown",
   "metadata": {},
   "source": [
    "## Set cookies"
   ]
  },
  {
   "cell_type": "code",
   "execution_count": 3,
   "metadata": {},
   "outputs": [],
   "source": [
    "cookie = \"QCCSESSID=r18mmd4r1lvs24cca9t43969b5; zg_did=%7B%22did%22%3A%20%2216bc94370d11b4-047d80b89838b1-37677e02-384000-16bc94370d2471%22%7D; UM_distinctid=16bc94371142a0-021542bc12af83-37677e02-384000-16bc9437115489; hasShow=1; _uab_collina=156244976879017749455047; acw_tc=2ff6129815624497682152240ef19f61e0ffef38ea7b331d445687c36c; Hm_lvt_3456bee468c83cc63fb5147f119f1075=1562449769; CNZZDATA1254842228=1120220450-1562445588-https%253A%252F%252Fwww.qichacha.com%252F%7C1562488799; Hm_lpvt_3456bee468c83cc63fb5147f119f1075=1562492933; zg_de1d1a35bfa24ce29bbf2c7eb17e6c4f=%7B%22sid%22%3A%201562486598400%2C%22updated%22%3A%201562492960763%2C%22info%22%3A%201562449768671%2C%22superProperty%22%3A%20%22%7B%7D%22%2C%22platform%22%3A%20%22%7B%7D%22%2C%22utm%22%3A%20%22%7B%7D%22%2C%22referrerDomain%22%3A%20%22%22%2C%22cuid%22%3A%20%22af5c198de42103292f80181258ee27a7%22%7D\""
   ]
  },
  {
   "cell_type": "markdown",
   "metadata": {},
   "source": [
    "## Function to get firm uid"
   ]
  },
  {
   "cell_type": "code",
   "execution_count": null,
   "metadata": {},
   "outputs": [],
   "source": [
    "index_names_df = pd.read_csv('../index_name.csv', sep='\\t', header=None,  names=['index', 'name'])\n",
    "len(index_names_df)"
   ]
  },
  {
   "cell_type": "code",
   "execution_count": null,
   "metadata": {},
   "outputs": [],
   "source": [
    "# define the header which includes cookies\n",
    "header_uids = {\n",
    "    \"Host\": \"www.qichacha.com\",\n",
    "    \"User-Agent\": \"Mozilla/5.0 (Macintosh; Intel Mac OS X 10_14_5) AppleWebKit/537.36 (KHTML, like Gecko) Chrome/75.0.3770.100 Safari/537.36\",\n",
    "    \"Accept\": \"text/html, */*; q=0.01\",\n",
    "    \"Accept-Language\": \"en,zh-CN;q=0.9,zh;q=0.8,zh-HK;q=0.7\",\n",
    "    \"Accept-Encoding\": \"gzip, deflate, br\",\n",
    "    \"Referer\": \"https://www.qichacha.com/\",\n",
    "    \"Cookie\": cookie,\n",
    "    \"Connection\": \"keep-alive\",\n",
    "    \"X-Requested-With\": \"XMLHttpRequest\"\n",
    "}"
   ]
  },
  {
   "cell_type": "code",
   "execution_count": null,
   "metadata": {},
   "outputs": [],
   "source": [
    "uids_df = get_firm_uid(header=header_uids, index_names_df=index_names_df)\n",
    "len(uids_df)"
   ]
  },
  {
   "cell_type": "code",
   "execution_count": null,
   "metadata": {},
   "outputs": [],
   "source": [
    "# merge two dataframe\n",
    "index_name_uid_df = pd.merge(left=index_names_df, right=uids_df, how='inner', on='index')\n",
    "index_name_uid_df.head()"
   ]
  },
  {
   "cell_type": "markdown",
   "metadata": {},
   "source": [
    "## Functions to get base information"
   ]
  },
  {
   "cell_type": "code",
   "execution_count": null,
   "metadata": {},
   "outputs": [],
   "source": [
    "# create headers list\n",
    "header_list = []\n",
    "for uid in list(index_name_uid_df['uid']):\n",
    "    header_list.append({\n",
    "    \"Host\": \"www.qichacha.com\",\n",
    "    \"User-Agent\": \"Mozilla/5.0 (Macintosh; Intel Mac OS X 10_14_5) AppleWebKit/537.36 (KHTML, like Gecko) Chrome/75.0.3770.100 Safari/537.36\",\n",
    "    \"Accept\": \"text/html, */*; q=0.01\",\n",
    "    \"Accept-Language\": \"en,zh-CN;q=0.9,zh;q=0.8,zh-HK;q=0.7\",\n",
    "    \"Accept-Encoding\": \"gzip, deflate, br\",\n",
    "    \"Referer\": \"https://www.qichacha.com/firm_{}.html\".format(uid),\n",
    "    \"Cookie\": cookie,\n",
    "    \"Connection\": \"keep-alive\",\n",
    "    \"X-Requested-With\": \"XMLHttpRequest\"\n",
    "})"
   ]
  },
  {
   "cell_type": "markdown",
   "metadata": {},
   "source": [
    "## Get base info and save"
   ]
  },
  {
   "cell_type": "code",
   "execution_count": null,
   "metadata": {},
   "outputs": [],
   "source": [
    "soup_base_info_list = []\n",
    "for header, uid in tqdm_notebook(zip(header_list, \\\n",
    "                                     list(index_name_uid_df['uid'])), \\\n",
    "                                 total=len(header_list)):\n",
    "    response_info = requests.get(\"https://www.qichacha.com/firm_{}.html#history\".format(uid), headers=header)\n",
    "    soup_base_info = BeautifulSoup(response_info.content)\n",
    "    # check the length of response, if access denied, i.e. request is limited\n",
    "    if len(soup_base_info) == 1:\n",
    "        raise Exception(\"Access denied\")\n",
    "    soup_base_info_list.append(soup_base_info)\n",
    "    sleep(5)\n",
    "    \n",
    "base_info_df = get_firm_base_info(soup_base_info_list)"
   ]
  },
  {
   "cell_type": "markdown",
   "metadata": {},
   "source": [
    "## Get adv info and save"
   ]
  },
  {
   "cell_type": "code",
   "execution_count": null,
   "metadata": {},
   "outputs": [],
   "source": [
    "names = list(base_info_df['name'])\n",
    "soup_adv_info_list = []\n",
    "for header, uid, name in tqdm_notebook(zip(header_list, \\\n",
    "                                           list(index_name_uid_df['uid']), names), \\\n",
    "                                       total=len(header_list)):\n",
    "    response_info = requests.get(\"https://www.qichacha.com/company_getinfos?unique={}&companyname={}&tab=report\".format(uid, parse.quote(name)), headers=header)\n",
    "    soup_adv_info = BeautifulSoup(response_info.content)\n",
    "    # check the length of response, if access denied, i.e. request is limited\n",
    "    if len(response_info.content) == 1:\n",
    "        raise Exception(\"Access denied\")\n",
    "    soup_adv_info_list.append(soup_adv_info)\n",
    "adv_info_df = get_firm_adv_info(soup_adv_info_list)"
   ]
  },
  {
   "cell_type": "markdown",
   "metadata": {},
   "source": [
    "## Combine base and adv info"
   ]
  },
  {
   "cell_type": "code",
   "execution_count": null,
   "metadata": {},
   "outputs": [],
   "source": [
    "df = pd.concat([index_name_uid_df, \\\n",
    "                base_info_df.drop(columns=['name']), \\\n",
    "                adv_info_df], axis=1, sort=False)"
   ]
  },
  {
   "cell_type": "code",
   "execution_count": null,
   "metadata": {},
   "outputs": [],
   "source": [
    "# add new columns: firm info site page\n",
    "df['firm_info_site'] = df['uid'].map(lambda x: \\\n",
    "                                     \"https://www.qichacha.com/firm_{}.html\".format(x))\n",
    "# save df to xlsx\n",
    "df.to_excel('../all_df.xlsx')\n",
    "# read from xlsx\n",
    "# df = pd.read_excel('../all_df.xlsx', index_col=0)"
   ]
  },
  {
   "cell_type": "markdown",
   "metadata": {},
   "source": [
    "## Write into excel file"
   ]
  },
  {
   "cell_type": "code",
   "execution_count": null,
   "metadata": {},
   "outputs": [],
   "source": [
    "to_excel_file('../sample.xlsx', df)"
   ]
  }
 ],
 "metadata": {
  "kernelspec": {
   "display_name": "Python 3",
   "language": "python",
   "name": "python3"
  },
  "language_info": {
   "codemirror_mode": {
    "name": "ipython",
    "version": 3
   },
   "file_extension": ".py",
   "mimetype": "text/x-python",
   "name": "python",
   "nbconvert_exporter": "python",
   "pygments_lexer": "ipython3",
   "version": "3.7.2"
  },
  "toc": {
   "base_numbering": 1,
   "nav_menu": {},
   "number_sections": true,
   "sideBar": true,
   "skip_h1_title": false,
   "title_cell": "Table of Contents",
   "title_sidebar": "Contents",
   "toc_cell": true,
   "toc_position": {},
   "toc_section_display": true,
   "toc_window_display": false
  }
 },
 "nbformat": 4,
 "nbformat_minor": 2
}
