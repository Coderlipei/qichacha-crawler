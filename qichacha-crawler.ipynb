{
 "cells": [
  {
   "cell_type": "markdown",
   "metadata": {
    "toc": true
   },
   "source": [
    "<h1>Table of Contents<span class=\"tocSkip\"></span></h1>\n",
    "<div class=\"toc\"><ul class=\"toc-item\"><li><span><a href=\"#Set-cookies\" data-toc-modified-id=\"Set-cookies-1\"><span class=\"toc-item-num\">1&nbsp;&nbsp;</span>Set cookies</a></span></li><li><span><a href=\"#Get-company-name-list\" data-toc-modified-id=\"Get-company-name-list-2\"><span class=\"toc-item-num\">2&nbsp;&nbsp;</span>Get company name list</a></span></li><li><span><a href=\"#Get-firm-uid\" data-toc-modified-id=\"Get-firm-uid-3\"><span class=\"toc-item-num\">3&nbsp;&nbsp;</span>Get firm uid</a></span></li><li><span><a href=\"#Get-basic-information\" data-toc-modified-id=\"Get-basic-information-4\"><span class=\"toc-item-num\">4&nbsp;&nbsp;</span>Get basic information</a></span></li><li><span><a href=\"#Parse-basic-information\" data-toc-modified-id=\"Parse-basic-information-5\"><span class=\"toc-item-num\">5&nbsp;&nbsp;</span>Parse basic information</a></span></li><li><span><a href=\"#Get-company-development-information\" data-toc-modified-id=\"Get-company-development-information-6\"><span class=\"toc-item-num\">6&nbsp;&nbsp;</span>Get company development information</a></span></li><li><span><a href=\"#Parse-development-information\" data-toc-modified-id=\"Parse-development-information-7\"><span class=\"toc-item-num\">7&nbsp;&nbsp;</span>Parse development information</a></span></li><li><span><a href=\"#Merge-two-dictionary-for-one-company\" data-toc-modified-id=\"Merge-two-dictionary-for-one-company-8\"><span class=\"toc-item-num\">8&nbsp;&nbsp;</span>Merge two dictionary for one company</a></span></li><li><span><a href=\"#Combine-base-and-adv-info\" data-toc-modified-id=\"Combine-base-and-adv-info-9\"><span class=\"toc-item-num\">9&nbsp;&nbsp;</span>Combine base and adv info</a></span></li><li><span><a href=\"#Write-into-excel-file\" data-toc-modified-id=\"Write-into-excel-file-10\"><span class=\"toc-item-num\">10&nbsp;&nbsp;</span>Write into excel file</a></span></li></ul></div>"
   ]
  },
  {
   "cell_type": "code",
   "execution_count": 114,
   "metadata": {},
   "outputs": [
    {
     "name": "stdout",
     "output_type": "stream",
     "text": [
      "The autoreload extension is already loaded. To reload it, use:\n",
      "  %reload_ext autoreload\n"
     ]
    }
   ],
   "source": [
    "%load_ext autoreload\n",
    "%autoreload 2"
   ]
  },
  {
   "cell_type": "code",
   "execution_count": 156,
   "metadata": {},
   "outputs": [],
   "source": [
    "from bs4 import BeautifulSoup\n",
    "from urllib import parse\n",
    "import requests\n",
    "from tqdm import tqdm_notebook\n",
    "from time import sleep\n",
    "import pandas as pd\n",
    "import openpyxl\n",
    "from typing import List\n",
    "import pickle\n",
    "from glob import glob\n",
    "# from utils import *"
   ]
  },
  {
   "cell_type": "markdown",
   "metadata": {},
   "source": [
    "## Set cookies"
   ]
  },
  {
   "cell_type": "code",
   "execution_count": 119,
   "metadata": {},
   "outputs": [],
   "source": [
    "cookie = \"QCCSESSID=r18mmd4r1lvs24cca9t43969b5; zg_did=%7B%22did%22%3A%20%2216bc94370d11b4-047d80b89838b1-37677e02-384000-16bc94370d2471%22%7D; UM_distinctid=16bc94371142a0-021542bc12af83-37677e02-384000-16bc9437115489; _uab_collina=156244976879017749455047; acw_tc=2ff6129815624497682152240ef19f61e0ffef38ea7b331d445687c36c; Hm_lvt_3456bee468c83cc63fb5147f119f1075=1562449769,1562911126; CNZZDATA1254842228=1120220450-1562445588-https%253A%252F%252Fwww.qichacha.com%252F%7C1563334157; hasShow=1; Hm_lpvt_3456bee468c83cc63fb5147f119f1075=1563338099; zg_de1d1a35bfa24ce29bbf2c7eb17e6c4f=%7B%22sid%22%3A%201563334592268%2C%22updated%22%3A%201563338100242%2C%22info%22%3A%201563154163097%2C%22superProperty%22%3A%20%22%7B%7D%22%2C%22platform%22%3A%20%22%7B%7D%22%2C%22utm%22%3A%20%22%7B%7D%22%2C%22referrerDomain%22%3A%20%22%22%2C%22cuid%22%3A%20%22af5c198de42103292f80181258ee27a7%22%7D\""
   ]
  },
  {
   "cell_type": "markdown",
   "metadata": {},
   "source": [
    "## Get company name list"
   ]
  },
  {
   "cell_type": "code",
   "execution_count": 106,
   "metadata": {},
   "outputs": [
    {
     "name": "stdout",
     "output_type": "stream",
     "text": [
      "100\n"
     ]
    }
   ],
   "source": [
    "index_names_df = pd.read_csv('index_name.csv', \\\n",
    "                             sep='\\t', \\\n",
    "                             header=None,  \\\n",
    "                             names=['id', 'name'])\n",
    "company_list = index_names_df['name'].tolist()\n",
    "print(len(company_list))\n",
    "\n",
    "# we take 10 companies for testing\n",
    "company_list = company_list[:10]"
   ]
  },
  {
   "cell_type": "markdown",
   "metadata": {},
   "source": [
    "## Get firm uid"
   ]
  },
  {
   "cell_type": "code",
   "execution_count": 100,
   "metadata": {
    "code_folding": [
     1
    ]
   },
   "outputs": [],
   "source": [
    "# define the header which includes cookies\n",
    "header_uids = {\n",
    "    \"User-Agent\": \"Mozilla/5.0 (Macintosh; Intel Mac OS X 10_14_5) AppleWebKit/537.36 (KHTML, like Gecko) Chrome/75.0.3770.100 Safari/537.36\",\n",
    "    \"Accept\": \"text/html, */*; q=0.01\",\n",
    "    \"Accept-Language\": \"en,zh-CN;q=0.9,zh;q=0.8,zh-HK;q=0.7\",\n",
    "    \"Accept-Encoding\": \"gzip, deflate, br\",\n",
    "    \"Connection\": \"keep-alive\",\n",
    "    \"X-Requested-With\": \"XMLHttpRequest\",\n",
    "    ############# need to be modify ##########\n",
    "    \"Host\": \"www.qichacha.com\",\n",
    "    \"Referer\": \"https://www.qichacha.com/\",\n",
    "    \"Cookie\": cookie\n",
    "}"
   ]
  },
  {
   "cell_type": "code",
   "execution_count": 111,
   "metadata": {
    "code_folding": [
     0
    ]
   },
   "outputs": [],
   "source": [
    "def get_firm_uid(header_uids: dict, name_list: list) -> List[str]:\n",
    "    \n",
    "    # define the request url for getting company uid\n",
    "    uid_request_url_list = [\"https://www.qichacha.com/search?key={}\"\\\n",
    "                            .format(parse.quote(name)) for name in name_list]\n",
    "    uid_list = []\n",
    "    for url in tqdm_notebook(uid_request_url_list):\n",
    "        response = requests.get(url, headers=header_uids)\n",
    "        soup = BeautifulSoup(response.content)\n",
    "        uid_list.append(soup.select_one(\"#searchlist table.m_srchList \"\\\n",
    "                                        \"tbody#search-result tr.frtrt \"\\\n",
    "                                        \"td.checktd label.text-dark-lter \"\\\n",
    "                                        \"input\").get('value'))\n",
    "    return uid_list"
   ]
  },
  {
   "cell_type": "code",
   "execution_count": 73,
   "metadata": {},
   "outputs": [],
   "source": [
    "uid_list = get_firm_uid(header_uids, name_list=company_list)"
   ]
  },
  {
   "cell_type": "code",
   "execution_count": 107,
   "metadata": {
    "scrolled": false
   },
   "outputs": [
    {
     "data": {
      "text/plain": [
       "'8276bd9bbae49966f0a0c2b708775df7'"
      ]
     },
     "execution_count": 107,
     "metadata": {},
     "output_type": "execute_result"
    }
   ],
   "source": [
    "uid_list[0]"
   ]
  },
  {
   "cell_type": "markdown",
   "metadata": {},
   "source": [
    "## Get basic information"
   ]
  },
  {
   "cell_type": "code",
   "execution_count": 120,
   "metadata": {
    "code_folding": [
     1
    ]
   },
   "outputs": [],
   "source": [
    "# define the header for getting basic information\n",
    "header_basic_info = {\n",
    "    \"User-Agent\": \"Mozilla/5.0 (Macintosh; Intel Mac OS X 10_14_5) AppleWebKit/537.36 (KHTML, like Gecko) Chrome/75.0.3770.100 Safari/537.36\",\n",
    "    \"Accept\": \"text/html, */*; q=0.01\",\n",
    "    \"Accept-Language\": \"en,zh-CN;q=0.9,zh;q=0.8,zh-HK;q=0.7\",\n",
    "    \"Accept-Encoding\": \"gzip, deflate, br\",\n",
    "    \"Connection\": \"keep-alive\",\n",
    "    \"X-Requested-With\": \"XMLHttpRequest\",\n",
    "    ############# need to be modify ##########\n",
    "    \"Host\": \"www.qichacha.com\",\n",
    "    \"Cookie\": cookie\n",
    "}"
   ]
  },
  {
   "cell_type": "code",
   "execution_count": 147,
   "metadata": {
    "code_folding": [
     0
    ]
   },
   "outputs": [],
   "source": [
    "def get_basic_info_soup(header_basic_info: dict, \\\n",
    "                        uid_list: list) -> List[BeautifulSoup]:\n",
    "    \n",
    "    # generate basic information request url\n",
    "    basic_info_request_url_list = [\"https://www.qichacha.com/firm_{}.html\"\\\n",
    "                                   .format(uid) for uid in uid_list]\n",
    "    \n",
    "    basic_soup_list = []\n",
    "    for url in tqdm_notebook(basic_info_request_url_list):\n",
    "        response = requests.get(url, headers=header_basic_info)\n",
    "        basic_soup_list.append(BeautifulSoup(response.content))\n",
    "    \n",
    "    return basic_soup_list"
   ]
  },
  {
   "cell_type": "code",
   "execution_count": 122,
   "metadata": {},
   "outputs": [
    {
     "data": {
      "application/vnd.jupyter.widget-view+json": {
       "model_id": "cb97c202a36b4677b2d35bd41a9f8c3d",
       "version_major": 2,
       "version_minor": 0
      },
      "text/plain": [
       "HBox(children=(IntProgress(value=0, max=10), HTML(value='')))"
      ]
     },
     "metadata": {},
     "output_type": "display_data"
    },
    {
     "name": "stdout",
     "output_type": "stream",
     "text": [
      "\n"
     ]
    }
   ],
   "source": [
    "basic_soup_list = get_basic_info_soup(header_basic_info, uid_list)"
   ]
  },
  {
   "cell_type": "code",
   "execution_count": 135,
   "metadata": {},
   "outputs": [
    {
     "data": {
      "application/vnd.jupyter.widget-view+json": {
       "model_id": "75e9617a5d3b4aebb7c8c6f34d5fb27b",
       "version_major": 2,
       "version_minor": 0
      },
      "text/plain": [
       "HBox(children=(IntProgress(value=0, max=10), HTML(value='')))"
      ]
     },
     "metadata": {},
     "output_type": "display_data"
    },
    {
     "name": "stdout",
     "output_type": "stream",
     "text": [
      "\n"
     ]
    }
   ],
   "source": [
    "# save the basic_soup_list to files\n",
    "for uid, basic_soup in tqdm_notebook(zip(uid_list, basic_soup_list), \\\n",
    "                                     total=len(basic_soup_list)):\n",
    "    with open(\"basic_soup_list/{}.soup\".format(uid), 'w') as f:\n",
    "        f.write(str(basic_soup))\n",
    "        \n",
    "# read from files\n",
    "basic_soup_list = []\n",
    "for file_name in glob('basic_soup_list/*'):\n",
    "with open(file_name, 'r') as f:\n",
    "    basic_soup_list.append(BeautifulSoup(f.read()))"
   ]
  },
  {
   "cell_type": "markdown",
   "metadata": {},
   "source": [
    "## Parse basic information"
   ]
  },
  {
   "cell_type": "code",
   "execution_count": 395,
   "metadata": {
    "code_folding": [
     0
    ]
   },
   "outputs": [],
   "source": [
    "def parse_basic_info(basic_soup: BeautifulSoup) -> dict:\n",
    "    \n",
    "    info_dict = {}\n",
    "    \n",
    "    # a helper function \n",
    "    def _helper_fun_get_key_value_add_to_dict(_row, info_dict):\n",
    "        _key = _row.find_all('td')[0].text.strip()\n",
    "        _value = _row.find_all('td')[1].text.strip()\n",
    "        info_dict[_key] = _value\n",
    "        _key = _row.find_all('td')[2].text.strip()\n",
    "        _value = _row.find_all('td')[3].text.strip()\n",
    "        info_dict[_key] = _value\n",
    "        return info_dict\n",
    "\n",
    "    #\n",
    "    # 工商信息\n",
    "    #\n",
    "    panel = basic_soup.select_one(\"#base_div #Cominfo\")\n",
    "    table1 = panel.select(\"table\")[0]\n",
    "    table2 = panel.select(\"table\")[1]\n",
    "    \n",
    "    # 法定代表人信息\n",
    "    info_dict[\"法定代表人信息\"] = table1.find(\"h2\", {'class': 'seo font-20'}).text\n",
    "    \n",
    "    # 注册资本, 实缴资本\n",
    "    _row = table2.find_all('tr')[0]\n",
    "    info_dict = _helper_fun_get_key_value_add_to_dict(_row, info_dict)\n",
    "    \n",
    "    # 经营状态, 成立日期\n",
    "    _row = table2.find_all('tr')[1]\n",
    "    info_dict = _helper_fun_get_key_value_add_to_dict(_row, info_dict)\n",
    "    \n",
    "    # 统一社会信用代码, 纳税人识别号\n",
    "    _row = table2.find_all('tr')[2]\n",
    "    info_dict = _helper_fun_get_key_value_add_to_dict(_row, info_dict)\n",
    "    \n",
    "    # 注册号, 组织机构代码\n",
    "    _row = table2.find_all('tr')[3]\n",
    "    info_dict = _helper_fun_get_key_value_add_to_dict(_row, info_dict)\n",
    "    \n",
    "    # 企业类型, 所属行业\n",
    "    _row = table2.find_all('tr')[4]\n",
    "    info_dict = _helper_fun_get_key_value_add_to_dict(_row, info_dict)\n",
    "    \n",
    "    # 核准日期, 登记机关\n",
    "    _row = table2.find_all('tr')[5]\n",
    "    info_dict = _helper_fun_get_key_value_add_to_dict(_row, info_dict)\n",
    "    \n",
    "    # 所属地区, 英文名\n",
    "    _row = table2.find_all('tr')[6]\n",
    "    info_dict = _helper_fun_get_key_value_add_to_dict(_row, info_dict)\n",
    "    \n",
    "    # 曾用名, 参保人数\n",
    "    _row = table2.find_all('tr')[7]\n",
    "    info_dict = _helper_fun_get_key_value_add_to_dict(_row, info_dict)\n",
    "    \n",
    "    # 人员规模, 营业期限\n",
    "    _row = table2.find_all('tr')[8]\n",
    "    info_dict = _helper_fun_get_key_value_add_to_dict(_row, info_dict)\n",
    "    \n",
    "    # 企业地址\n",
    "    _row = table2.find_all('tr')[9]\n",
    "    _key = _row.find_all('td')[0].text.strip()\n",
    "    _value = _row.find_all('td')[1].text.strip().split('\\n')[0]\n",
    "    info_dict[_key] = _value\n",
    "    \n",
    "    # 经营范围\n",
    "    _row = table2.find_all('tr')[10]\n",
    "    _key = _row.find_all('td')[0].text.strip()\n",
    "    _value = _row.find_all('td')[1].text.strip()\n",
    "    \n",
    "    #\n",
    "    # 对外投资\n",
    "    #\n",
    "    panel = basic_soup.select_one(\"#base_div #touzilist\")\n",
    "    # 对外投资数量\n",
    "    if panel == None:\n",
    "        info_dict[\"对外投资数量\"] = 'None'\n",
    "    else:\n",
    "        info_dict[\"对外投资数量\"] \\\n",
    "        = panel.select_one(\"div\").find(\"span\", {'class': 'tbadge'}).text\n",
    "    \n",
    "    #\n",
    "    # 分支机构\n",
    "    #\n",
    "    panel = basic_soup.select_one(\"#base_div #branchelist\")\n",
    "    # 分支机构数量\n",
    "    if panel == None:\n",
    "        info_dict[\"分支机构数量\"] = 'None'\n",
    "    else:\n",
    "        info_dict[\"分支机构数量\"] \\\n",
    "        = panel.select_one(\"div\").find(\"span\", {'class': 'tbadge'}).text\n",
    "    \n",
    "    return info_dict"
   ]
  },
  {
   "cell_type": "markdown",
   "metadata": {},
   "source": [
    "## Get company development information"
   ]
  },
  {
   "cell_type": "code",
   "execution_count": 148,
   "metadata": {
    "code_folding": [
     1
    ]
   },
   "outputs": [],
   "source": [
    "# define the header for getting development information\n",
    "header_dev_info = {\n",
    "    \"User-Agent\": \"Mozilla/5.0 (Macintosh; Intel Mac OS X 10_14_5) AppleWebKit/537.36 (KHTML, like Gecko) Chrome/75.0.3770.100 Safari/537.36\",\n",
    "    \"Accept\": \"text/html, */*; q=0.01\",\n",
    "    \"Accept-Language\": \"en,zh-CN;q=0.9,zh;q=0.8,zh-HK;q=0.7\",\n",
    "    \"Accept-Encoding\": \"gzip, deflate, br\",\n",
    "    \"Connection\": \"keep-alive\",\n",
    "    \"X-Requested-With\": \"XMLHttpRequest\",\n",
    "    ############# need to be modify ##########\n",
    "    \"Host\": \"www.qichacha.com\",\n",
    "    \"Cookie\": cookie\n",
    "}"
   ]
  },
  {
   "cell_type": "code",
   "execution_count": 149,
   "metadata": {
    "code_folding": [
     0
    ]
   },
   "outputs": [],
   "source": [
    "def get_dev_info_soup(header_dev_info: dict, \\\n",
    "                      uid_list: list) -> List[BeautifulSoup]:\n",
    "\n",
    "    # generate header for getting development information\n",
    "    header_dev_info_list = [dict(header_dev_info, \\\n",
    "                             **{\"Referer\": \"https://www.qichacha.com/firm_{}.html\"\\\n",
    "                                .format(uid)}) for uid in uid_list]\n",
    "\n",
    "    # # generate the request url for getting development information\n",
    "    dev_request_url_list = [\"https://www.qichacha.com/company_getinfos?\"\\\n",
    "                            \"unique={0}&\"\\\n",
    "                            \"companyname={1}&\"\\\n",
    "                            \"tab=report\".format(uid, parse.quote(name)) \\\n",
    "                            for uid, name in zip(uid_list, company_list)]\n",
    "    \n",
    "    soup_dev_info_list = []\n",
    "    for header, url in tqdm_notebook(zip(header_dev_info_list, dev_request_url_list), \\\n",
    "                                     total=len(header_dev_info_list)):\n",
    "        response = requests.get(url, headers=header)\n",
    "        soup_dev_info_list.append(BeautifulSoup(response.content))\n",
    "    \n",
    "    return soup_dev_info_list"
   ]
  },
  {
   "cell_type": "code",
   "execution_count": 150,
   "metadata": {},
   "outputs": [
    {
     "data": {
      "application/vnd.jupyter.widget-view+json": {
       "model_id": "8d80ce9f824e46dda9647b94aa40e084",
       "version_major": 2,
       "version_minor": 0
      },
      "text/plain": [
       "HBox(children=(IntProgress(value=0, max=10), HTML(value='')))"
      ]
     },
     "metadata": {},
     "output_type": "display_data"
    },
    {
     "name": "stdout",
     "output_type": "stream",
     "text": [
      "\n"
     ]
    }
   ],
   "source": [
    "soup_dev_info_list = get_dev_info_soup(header_dev_info, uid_list)"
   ]
  },
  {
   "cell_type": "code",
   "execution_count": 152,
   "metadata": {},
   "outputs": [],
   "source": [
    "# save the soup_dev_info_list to files\n",
    "for uid, dev_soup in tqdm_notebook(zip(uid_list, soup_dev_info_list), \\\n",
    "                                   total=len(soup_dev_info_list)):\n",
    "    with open(\"dev_soup_list/{}.soup\".format(uid), 'w') as f:\n",
    "        f.write(str(dev_soup))\n",
    "# read from files\n",
    "soup_dev_info_list = []\n",
    "for file_name in glob('dev_soup_list/*'):\n",
    "    with open(file_name, 'r') as f:\n",
    "        soup_dev_info_list.append(BeautifulSoup(f.read()))"
   ]
  },
  {
   "cell_type": "markdown",
   "metadata": {},
   "source": [
    "## Parse development information"
   ]
  },
  {
   "cell_type": "code",
   "execution_count": 423,
   "metadata": {
    "code_folding": [
     0
    ]
   },
   "outputs": [],
   "source": [
    "def parse_dev_info(dev_soup: BeautifulSoup) -> dict:\n",
    "    \n",
    "    info_dict = {}\n",
    "    \n",
    "    # a helper function \n",
    "    def _helper_fun_get_key_value_add_to_dict(_row, info_dict):\n",
    "        _key = _row.find_all('td')[0].text.strip()\n",
    "        _value = _row.find_all('td')[1].text.strip()\n",
    "        info_dict[_key] = _value\n",
    "        _key = _row.find_all('td')[2].text.strip()\n",
    "        _value = _row.find_all('td')[3].text.strip()\n",
    "        info_dict[_key] = _value\n",
    "        return info_dict\n",
    "    \n",
    "    main_panel = soup_dev_info.find(\"div\", {'id': 0})\n",
    "    \n",
    "    #\n",
    "    # 企业基本信息\n",
    "    #\n",
    "    panel = main_panel.find_all('table')[0]\n",
    "    \n",
    "    # 注册号, 统一社会信用代码\n",
    "    _row = panel.find_all('tr')[0]\n",
    "    info_dict = _helper_fun_get_key_value_add_to_dict(_row, info_dict)\n",
    "    \n",
    "    # 企业经营状态, 企业联系电话\n",
    "    _row = panel.find_all('tr')[1]\n",
    "    info_dict = _helper_fun_get_key_value_add_to_dict(_row, info_dict)\n",
    "    \n",
    "    # 从业人数, 邮政编码\n",
    "    _row = panel.find_all('tr')[2]\n",
    "    info_dict = _helper_fun_get_key_value_add_to_dict(_row, info_dict)\n",
    "    \n",
    "    # 有限责任公司本年度是否发生股东股权转让, 企业是否有投资信息或购买其他公司股权\n",
    "    _row = panel.find_all('tr')[3]\n",
    "    info_dict = _helper_fun_get_key_value_add_to_dict(_row, info_dict)\n",
    "    \n",
    "    # 电子邮箱\n",
    "    _row = panel.find_all('tr')[4]\n",
    "    _key = _row.find_all('td')[0].text.strip()\n",
    "    _value = _row.find_all('td')[1].text.strip()\n",
    "    info_dict[_key] = _value\n",
    "    \n",
    "    # 企业通讯地址\n",
    "    _row = panel.find_all('tr')[5]\n",
    "    _key = _row.find_all('td')[0].text.strip()\n",
    "    _value = _row.find_all('td')[1].text.strip().split('\\n')[0]\n",
    "    info_dict[_key] = _value\n",
    "    \n",
    "    #\n",
    "    # 企业资产状况信息\n",
    "    #\n",
    "    panel = main_panel.find_all('table')[3]\n",
    "    \n",
    "    # 资产总额, 所有者权益合计\n",
    "    _row = panel.find_all('tr')[0]\n",
    "    info_dict = _helper_fun_get_key_value_add_to_dict(_row, info_dict)\n",
    "    \n",
    "    # 营业总收入, 利润总额\n",
    "    _row = panel.find_all('tr')[1]\n",
    "    info_dict = _helper_fun_get_key_value_add_to_dict(_row, info_dict)\n",
    "    \n",
    "    # 营业总收入中主营业务收入, 净利润\n",
    "    _row = panel.find_all('tr')[2]\n",
    "    info_dict = _helper_fun_get_key_value_add_to_dict(_row, info_dict)\n",
    "    \n",
    "    # 纳税总额, 负债总额\n",
    "    _row = panel.find_all('tr')[3]\n",
    "    info_dict = _helper_fun_get_key_value_add_to_dict(_row, info_dict)\n",
    "    \n",
    "    #\n",
    "    # 社保信息\n",
    "    #\n",
    "    panel = main_panel.find_all('table')[4]\n",
    "    \n",
    "    # 城镇职工基本养老保险, 职工基本医疗保险\n",
    "    _row = panel.find_all('tr')[0]\n",
    "    info_dict = _helper_fun_get_key_value_add_to_dict(_row, info_dict)\n",
    "    \n",
    "    # 生育保险, 失业保险\n",
    "    _row = panel.find_all('tr')[1]\n",
    "    info_dict = _helper_fun_get_key_value_add_to_dict(_row, info_dict)\n",
    "    \n",
    "    # 工伤保险\n",
    "    _row = panel.find_all('tr')[2]\n",
    "    _key = _row.find_all('td')[0].text.strip()\n",
    "    _value = _row.find_all('td')[1].text.strip().split('\\n')[0]\n",
    "\n",
    "    return info_dict"
   ]
  },
  {
   "cell_type": "markdown",
   "metadata": {},
   "source": [
    "## Merge two dictionary for one company"
   ]
  },
  {
   "cell_type": "code",
   "execution_count": 431,
   "metadata": {},
   "outputs": [],
   "source": [
    "info_dict = parse_basic_info(basic_soup)"
   ]
  },
  {
   "cell_type": "code",
   "execution_count": 432,
   "metadata": {},
   "outputs": [],
   "source": [
    "info_dict.update(parse_dev_info(dev_soup))"
   ]
  },
  {
   "cell_type": "markdown",
   "metadata": {},
   "source": [
    "## Combine base and adv info"
   ]
  },
  {
   "cell_type": "code",
   "execution_count": null,
   "metadata": {},
   "outputs": [],
   "source": [
    "df = pd.concat([index_name_uid_df, \\\n",
    "                base_info_df.drop(columns=['name']), \\\n",
    "                adv_info_df], axis=1, sort=False)"
   ]
  },
  {
   "cell_type": "code",
   "execution_count": null,
   "metadata": {},
   "outputs": [],
   "source": [
    "# add new columns: firm info site page\n",
    "df['firm_info_site'] = df['uid'].map(lambda x: \\\n",
    "                                     \"https://www.qichacha.com/firm_{}.html\".format(x))\n",
    "# save df to xlsx\n",
    "df.to_excel('../all_df.xlsx')\n",
    "# read from xlsx\n",
    "# df = pd.read_excel('../all_df.xlsx', index_col=0)"
   ]
  },
  {
   "cell_type": "markdown",
   "metadata": {},
   "source": [
    "## Write into excel file"
   ]
  },
  {
   "cell_type": "code",
   "execution_count": null,
   "metadata": {},
   "outputs": [],
   "source": [
    "to_excel_file('../sample.xlsx', df)"
   ]
  }
 ],
 "metadata": {
  "kernelspec": {
   "display_name": "Python 3",
   "language": "python",
   "name": "python3"
  },
  "language_info": {
   "codemirror_mode": {
    "name": "ipython",
    "version": 3
   },
   "file_extension": ".py",
   "mimetype": "text/x-python",
   "name": "python",
   "nbconvert_exporter": "python",
   "pygments_lexer": "ipython3",
   "version": "3.7.2"
  },
  "toc": {
   "base_numbering": 1,
   "nav_menu": {},
   "number_sections": true,
   "sideBar": true,
   "skip_h1_title": false,
   "title_cell": "Table of Contents",
   "title_sidebar": "Contents",
   "toc_cell": true,
   "toc_position": {},
   "toc_section_display": true,
   "toc_window_display": false
  }
 },
 "nbformat": 4,
 "nbformat_minor": 2
}
