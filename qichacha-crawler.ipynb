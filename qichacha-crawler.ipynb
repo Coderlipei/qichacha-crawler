{
 "cells": [
  {
   "cell_type": "markdown",
   "metadata": {
    "toc": true
   },
   "source": [
    "<h1>Table of Contents<span class=\"tocSkip\"></span></h1>\n",
    "<div class=\"toc\"><ul class=\"toc-item\"><li><span><a href=\"#Set-cookies\" data-toc-modified-id=\"Set-cookies-1\"><span class=\"toc-item-num\">1&nbsp;&nbsp;</span>Set cookies</a></span></li><li><span><a href=\"#Get-company-name-list\" data-toc-modified-id=\"Get-company-name-list-2\"><span class=\"toc-item-num\">2&nbsp;&nbsp;</span>Get company name list</a></span></li><li><span><a href=\"#Get-firm-uid\" data-toc-modified-id=\"Get-firm-uid-3\"><span class=\"toc-item-num\">3&nbsp;&nbsp;</span>Get firm uid</a></span></li><li><span><a href=\"#Get-basic-information\" data-toc-modified-id=\"Get-basic-information-4\"><span class=\"toc-item-num\">4&nbsp;&nbsp;</span>Get basic information</a></span></li><li><span><a href=\"#Parse-basic-information\" data-toc-modified-id=\"Parse-basic-information-5\"><span class=\"toc-item-num\">5&nbsp;&nbsp;</span>Parse basic information</a></span><ul class=\"toc-item\"><li><span><a href=\"#工商信息\" data-toc-modified-id=\"工商信息-5.1\"><span class=\"toc-item-num\">5.1&nbsp;&nbsp;</span>工商信息</a></span></li><li><span><a href=\"#对外投资\" data-toc-modified-id=\"对外投资-5.2\"><span class=\"toc-item-num\">5.2&nbsp;&nbsp;</span>对外投资</a></span></li><li><span><a href=\"#分支机构\" data-toc-modified-id=\"分支机构-5.3\"><span class=\"toc-item-num\">5.3&nbsp;&nbsp;</span>分支机构</a></span></li></ul></li><li><span><a href=\"#Get-company-development-information\" data-toc-modified-id=\"Get-company-development-information-6\"><span class=\"toc-item-num\">6&nbsp;&nbsp;</span>Get company development information</a></span></li><li><span><a href=\"#Parse-development-information\" data-toc-modified-id=\"Parse-development-information-7\"><span class=\"toc-item-num\">7&nbsp;&nbsp;</span>Parse development information</a></span><ul class=\"toc-item\"><li><span><a href=\"#企业基本信息\" data-toc-modified-id=\"企业基本信息-7.1\"><span class=\"toc-item-num\">7.1&nbsp;&nbsp;</span>企业基本信息</a></span></li><li><span><a href=\"#企业资产状况信息\" data-toc-modified-id=\"企业资产状况信息-7.2\"><span class=\"toc-item-num\">7.2&nbsp;&nbsp;</span>企业资产状况信息</a></span></li><li><span><a href=\"#社保信息\" data-toc-modified-id=\"社保信息-7.3\"><span class=\"toc-item-num\">7.3&nbsp;&nbsp;</span>社保信息</a></span></li></ul></li><li><span><a href=\"#Combine-base-and-adv-info\" data-toc-modified-id=\"Combine-base-and-adv-info-8\"><span class=\"toc-item-num\">8&nbsp;&nbsp;</span>Combine base and adv info</a></span></li><li><span><a href=\"#Write-into-excel-file\" data-toc-modified-id=\"Write-into-excel-file-9\"><span class=\"toc-item-num\">9&nbsp;&nbsp;</span>Write into excel file</a></span></li></ul></div>"
   ]
  },
  {
   "cell_type": "code",
   "execution_count": 114,
   "metadata": {},
   "outputs": [
    {
     "name": "stdout",
     "output_type": "stream",
     "text": [
      "The autoreload extension is already loaded. To reload it, use:\n",
      "  %reload_ext autoreload\n"
     ]
    }
   ],
   "source": [
    "%load_ext autoreload\n",
    "%autoreload 2"
   ]
  },
  {
   "cell_type": "code",
   "execution_count": 156,
   "metadata": {},
   "outputs": [],
   "source": [
    "from bs4 import BeautifulSoup\n",
    "from urllib import parse\n",
    "import requests\n",
    "from tqdm import tqdm_notebook\n",
    "from time import sleep\n",
    "import pandas as pd\n",
    "import openpyxl\n",
    "from typing import List\n",
    "import pickle\n",
    "from glob import glob\n",
    "# from utils import *"
   ]
  },
  {
   "cell_type": "markdown",
   "metadata": {},
   "source": [
    "## Set cookies"
   ]
  },
  {
   "cell_type": "code",
   "execution_count": 119,
   "metadata": {},
   "outputs": [],
   "source": [
    "cookie = \"QCCSESSID=r18mmd4r1lvs24cca9t43969b5; zg_did=%7B%22did%22%3A%20%2216bc94370d11b4-047d80b89838b1-37677e02-384000-16bc94370d2471%22%7D; UM_distinctid=16bc94371142a0-021542bc12af83-37677e02-384000-16bc9437115489; _uab_collina=156244976879017749455047; acw_tc=2ff6129815624497682152240ef19f61e0ffef38ea7b331d445687c36c; Hm_lvt_3456bee468c83cc63fb5147f119f1075=1562449769,1562911126; CNZZDATA1254842228=1120220450-1562445588-https%253A%252F%252Fwww.qichacha.com%252F%7C1563334157; hasShow=1; Hm_lpvt_3456bee468c83cc63fb5147f119f1075=1563338099; zg_de1d1a35bfa24ce29bbf2c7eb17e6c4f=%7B%22sid%22%3A%201563334592268%2C%22updated%22%3A%201563338100242%2C%22info%22%3A%201563154163097%2C%22superProperty%22%3A%20%22%7B%7D%22%2C%22platform%22%3A%20%22%7B%7D%22%2C%22utm%22%3A%20%22%7B%7D%22%2C%22referrerDomain%22%3A%20%22%22%2C%22cuid%22%3A%20%22af5c198de42103292f80181258ee27a7%22%7D\""
   ]
  },
  {
   "cell_type": "markdown",
   "metadata": {},
   "source": [
    "## Get company name list"
   ]
  },
  {
   "cell_type": "code",
   "execution_count": 106,
   "metadata": {},
   "outputs": [
    {
     "name": "stdout",
     "output_type": "stream",
     "text": [
      "100\n"
     ]
    }
   ],
   "source": [
    "index_names_df = pd.read_csv('index_name.csv', \\\n",
    "                             sep='\\t', \\\n",
    "                             header=None,  \\\n",
    "                             names=['id', 'name'])\n",
    "company_list = index_names_df['name'].tolist()\n",
    "print(len(company_list))\n",
    "\n",
    "# we take 10 companies for testing\n",
    "company_list = company_list[:10]"
   ]
  },
  {
   "cell_type": "markdown",
   "metadata": {},
   "source": [
    "## Get firm uid"
   ]
  },
  {
   "cell_type": "code",
   "execution_count": 100,
   "metadata": {
    "code_folding": [
     1
    ]
   },
   "outputs": [],
   "source": [
    "# define the header which includes cookies\n",
    "header_uids = {\n",
    "    \"User-Agent\": \"Mozilla/5.0 (Macintosh; Intel Mac OS X 10_14_5) AppleWebKit/537.36 (KHTML, like Gecko) Chrome/75.0.3770.100 Safari/537.36\",\n",
    "    \"Accept\": \"text/html, */*; q=0.01\",\n",
    "    \"Accept-Language\": \"en,zh-CN;q=0.9,zh;q=0.8,zh-HK;q=0.7\",\n",
    "    \"Accept-Encoding\": \"gzip, deflate, br\",\n",
    "    \"Connection\": \"keep-alive\",\n",
    "    \"X-Requested-With\": \"XMLHttpRequest\",\n",
    "    ############# need to be modify ##########\n",
    "    \"Host\": \"www.qichacha.com\",\n",
    "    \"Referer\": \"https://www.qichacha.com/\",\n",
    "    \"Cookie\": cookie\n",
    "}"
   ]
  },
  {
   "cell_type": "code",
   "execution_count": 111,
   "metadata": {
    "code_folding": [
     0
    ]
   },
   "outputs": [],
   "source": [
    "def get_firm_uid(header_uids: dict, name_list: list) -> List[str]:\n",
    "    \n",
    "    # define the request url for getting company uid\n",
    "    uid_request_url_list = [\"https://www.qichacha.com/search?key={}\"\\\n",
    "                            .format(parse.quote(name)) for name in name_list]\n",
    "    uid_list = []\n",
    "    for url in tqdm_notebook(uid_request_url_list):\n",
    "        response = requests.get(url, headers=header_uids)\n",
    "        soup = BeautifulSoup(response.content)\n",
    "        uid_list.append(soup.select_one(\"#searchlist table.m_srchList \"\\\n",
    "                                        \"tbody#search-result tr.frtrt \"\\\n",
    "                                        \"td.checktd label.text-dark-lter \"\\\n",
    "                                        \"input\").get('value'))\n",
    "    return uid_list"
   ]
  },
  {
   "cell_type": "code",
   "execution_count": 73,
   "metadata": {},
   "outputs": [],
   "source": [
    "uid_list = get_firm_uid(header_uids, name_list=company_list)"
   ]
  },
  {
   "cell_type": "code",
   "execution_count": 107,
   "metadata": {
    "scrolled": false
   },
   "outputs": [
    {
     "data": {
      "text/plain": [
       "'8276bd9bbae49966f0a0c2b708775df7'"
      ]
     },
     "execution_count": 107,
     "metadata": {},
     "output_type": "execute_result"
    }
   ],
   "source": [
    "uid_list[0]"
   ]
  },
  {
   "cell_type": "markdown",
   "metadata": {},
   "source": [
    "## Get basic information"
   ]
  },
  {
   "cell_type": "code",
   "execution_count": 120,
   "metadata": {
    "code_folding": [
     1
    ]
   },
   "outputs": [],
   "source": [
    "# define the header for getting basic information\n",
    "header_basic_info = {\n",
    "    \"User-Agent\": \"Mozilla/5.0 (Macintosh; Intel Mac OS X 10_14_5) AppleWebKit/537.36 (KHTML, like Gecko) Chrome/75.0.3770.100 Safari/537.36\",\n",
    "    \"Accept\": \"text/html, */*; q=0.01\",\n",
    "    \"Accept-Language\": \"en,zh-CN;q=0.9,zh;q=0.8,zh-HK;q=0.7\",\n",
    "    \"Accept-Encoding\": \"gzip, deflate, br\",\n",
    "    \"Connection\": \"keep-alive\",\n",
    "    \"X-Requested-With\": \"XMLHttpRequest\",\n",
    "    ############# need to be modify ##########\n",
    "    \"Host\": \"www.qichacha.com\",\n",
    "    \"Cookie\": cookie\n",
    "}"
   ]
  },
  {
   "cell_type": "code",
   "execution_count": 147,
   "metadata": {
    "code_folding": [
     0
    ]
   },
   "outputs": [],
   "source": [
    "def get_basic_info_soup(header_basic_info: dict, \\\n",
    "                        uid_list: list) -> List[BeautifulSoup]:\n",
    "    \n",
    "    # generate basic information request url\n",
    "    basic_info_request_url_list = [\"https://www.qichacha.com/firm_{}.html\"\\\n",
    "                                   .format(uid) for uid in uid_list]\n",
    "    \n",
    "    basic_soup_list = []\n",
    "    for url in tqdm_notebook(basic_info_request_url_list):\n",
    "        response = requests.get(url, headers=header_basic_info)\n",
    "        basic_soup_list.append(BeautifulSoup(response.content))\n",
    "    \n",
    "    return basic_soup_list"
   ]
  },
  {
   "cell_type": "code",
   "execution_count": 122,
   "metadata": {},
   "outputs": [
    {
     "data": {
      "application/vnd.jupyter.widget-view+json": {
       "model_id": "cb97c202a36b4677b2d35bd41a9f8c3d",
       "version_major": 2,
       "version_minor": 0
      },
      "text/plain": [
       "HBox(children=(IntProgress(value=0, max=10), HTML(value='')))"
      ]
     },
     "metadata": {},
     "output_type": "display_data"
    },
    {
     "name": "stdout",
     "output_type": "stream",
     "text": [
      "\n"
     ]
    }
   ],
   "source": [
    "basic_soup_list = get_basic_info_soup(header_basic_info, uid_list)"
   ]
  },
  {
   "cell_type": "code",
   "execution_count": 135,
   "metadata": {},
   "outputs": [
    {
     "data": {
      "application/vnd.jupyter.widget-view+json": {
       "model_id": "75e9617a5d3b4aebb7c8c6f34d5fb27b",
       "version_major": 2,
       "version_minor": 0
      },
      "text/plain": [
       "HBox(children=(IntProgress(value=0, max=10), HTML(value='')))"
      ]
     },
     "metadata": {},
     "output_type": "display_data"
    },
    {
     "name": "stdout",
     "output_type": "stream",
     "text": [
      "\n"
     ]
    }
   ],
   "source": [
    "# save the basic_soup_list to files\n",
    "for uid, basic_soup in tqdm_notebook(zip(uid_list, basic_soup_list), \\\n",
    "                                     total=len(basic_soup_list)):\n",
    "    with open(\"basic_soup_list/{}.soup\".format(uid), 'w') as f:\n",
    "        f.write(str(basic_soup))\n",
    "        \n",
    "# read from files\n",
    "basic_soup_list = []\n",
    "for file_name in glob('basic_soup_list/*'):\n",
    "with open(file_name, 'r') as f:\n",
    "    basic_soup_list.append(BeautifulSoup(f.read()))"
   ]
  },
  {
   "cell_type": "markdown",
   "metadata": {},
   "source": [
    "## Parse basic information"
   ]
  },
  {
   "cell_type": "code",
   "execution_count": 237,
   "metadata": {},
   "outputs": [],
   "source": [
    "basic_soup = basic_soup_list[0]"
   ]
  },
  {
   "cell_type": "markdown",
   "metadata": {},
   "source": [
    "### 工商信息"
   ]
  },
  {
   "cell_type": "code",
   "execution_count": 238,
   "metadata": {},
   "outputs": [],
   "source": [
    "panel = basic_soup.select_one(\"#base_div #Cominfo\")"
   ]
  },
  {
   "cell_type": "code",
   "execution_count": 241,
   "metadata": {},
   "outputs": [
    {
     "data": {
      "text/plain": [
       "'刘建红'"
      ]
     },
     "execution_count": 241,
     "metadata": {},
     "output_type": "execute_result"
    }
   ],
   "source": [
    "# 法定代表人信息\n",
    "table1 = panel.select(\"table\")[0]\n",
    "table1.find(\"h2\", {'class': 'seo font-20'}).text"
   ]
  },
  {
   "cell_type": "code",
   "execution_count": 243,
   "metadata": {
    "scrolled": true
   },
   "outputs": [],
   "source": [
    "table2 = panel.select(\"table\")[1]"
   ]
  },
  {
   "cell_type": "code",
   "execution_count": 248,
   "metadata": {
    "scrolled": true
   },
   "outputs": [
    {
     "data": {
      "text/plain": [
       "<tr> <td class=\"tb\" width=\"20%\">注册资本</td> <td class=\"\" width=\"30%\">\n",
       "                 2200万元人民币             </td> <td class=\"tb\" width=\"20%\">实缴资本</td> <td class=\"\" width=\"30%\">\n",
       "                -\n",
       "            </td> </tr>"
      ]
     },
     "execution_count": 248,
     "metadata": {},
     "output_type": "execute_result"
    }
   ],
   "source": [
    "# 注册资本, 实缴资本\n",
    "table2.find_all('tr')[0]"
   ]
  },
  {
   "cell_type": "code",
   "execution_count": 247,
   "metadata": {},
   "outputs": [
    {
     "data": {
      "text/plain": [
       "<tr> <td class=\"tb\">经营状态</td> <td class=\"\">\n",
       "                 在营（开业）企业             </td> <td class=\"tb\" width=\"18%\">成立日期</td> <td class=\"\">\n",
       "                2015-03-23\n",
       "            </td> </tr>"
      ]
     },
     "execution_count": 247,
     "metadata": {},
     "output_type": "execute_result"
    }
   ],
   "source": [
    "# 经营状态, 成立日期\n",
    "table2.find_all('tr')[1]"
   ]
  },
  {
   "cell_type": "code",
   "execution_count": 249,
   "metadata": {},
   "outputs": [
    {
     "data": {
      "text/plain": [
       "<tr> <td class=\"tb\">统一社会信用代码</td> <td class=\"\">\n",
       "                91440113331455835J\n",
       "            </td> <td class=\"tb\">纳税人识别号</td> <td class=\"\">\n",
       "                91440113331455835J\n",
       "            </td> </tr>"
      ]
     },
     "execution_count": 249,
     "metadata": {},
     "output_type": "execute_result"
    }
   ],
   "source": [
    "# 统一社会信用代码, 纳税人识别号\n",
    "table2.find_all('tr')[2]"
   ]
  },
  {
   "cell_type": "code",
   "execution_count": 250,
   "metadata": {},
   "outputs": [
    {
     "data": {
      "text/plain": [
       "<tr> <td class=\"tb\">注册号</td> <td class=\"\">\n",
       "                440126000546588\n",
       "            </td> <td class=\"tb\" width=\"15%\">组织机构代码</td> <td class=\"\">\n",
       "                33145583-5\n",
       "            </td> </tr>"
      ]
     },
     "execution_count": 250,
     "metadata": {},
     "output_type": "execute_result"
    }
   ],
   "source": [
    "# 注册号, 组织机构代码\n",
    "table2.find_all('tr')[3]"
   ]
  },
  {
   "cell_type": "code",
   "execution_count": 251,
   "metadata": {},
   "outputs": [
    {
     "data": {
      "text/plain": [
       "<tr> <td class=\"tb\">企业类型</td> <td class=\"\">\n",
       "                其他有限责任公司\n",
       "            </td> <td class=\"tb\">所属行业</td> <td class=\"\">\n",
       "                租赁和商务服务业\n",
       "            </td> </tr>"
      ]
     },
     "execution_count": 251,
     "metadata": {},
     "output_type": "execute_result"
    }
   ],
   "source": [
    "# 企业类型, 所属行业\n",
    "table2.find_all('tr')[4]"
   ]
  },
  {
   "cell_type": "code",
   "execution_count": 252,
   "metadata": {},
   "outputs": [
    {
     "data": {
      "text/plain": [
       "<tr> <td class=\"tb\">核准日期</td> <td class=\"\" style=\"max-width:301px;\">\n",
       "              2018-08-23\n",
       "          </td> <td class=\"tb\">登记机关</td> <td class=\"\">\n",
       "              广州市天河区工商行政管理局\n",
       "          </td> </tr>"
      ]
     },
     "execution_count": 252,
     "metadata": {},
     "output_type": "execute_result"
    }
   ],
   "source": [
    "# 核准日期, 登记机关\n",
    "table2.find_all('tr')[5]"
   ]
  },
  {
   "cell_type": "code",
   "execution_count": 253,
   "metadata": {},
   "outputs": [
    {
     "data": {
      "text/plain": [
       "<tr> <td class=\"tb\">所属地区</td> <td class=\"\" style=\"max-width:301px;\">\n",
       "                广东省\n",
       "            </td> <td class=\"tb\">英文名</td> <td class=\"\">\n",
       "                -\n",
       "            </td> </tr>"
      ]
     },
     "execution_count": 253,
     "metadata": {},
     "output_type": "execute_result"
    }
   ],
   "source": [
    "# 所属地区, 英文名\n",
    "table2.find_all('tr')[6]"
   ]
  },
  {
   "cell_type": "code",
   "execution_count": 254,
   "metadata": {},
   "outputs": [
    {
     "data": {
      "text/plain": [
       "<tr> <td class=\"tb\">\n",
       "                曾用名\n",
       "            </td> <td class=\"\"> <span>广州零壹众筹互联网金融信息服务有限公司  </span> <span>广州市零壹众筹投资管理有限公司  </span> </td> <td class=\"tb\">\n",
       "                参保人数\n",
       "            </td> <td class=\"\">\n",
       "                8\n",
       "            </td> </tr>"
      ]
     },
     "execution_count": 254,
     "metadata": {},
     "output_type": "execute_result"
    }
   ],
   "source": [
    "# 曾用名, 参保人数\n",
    "table2.find_all('tr')[7]"
   ]
  },
  {
   "cell_type": "code",
   "execution_count": 255,
   "metadata": {},
   "outputs": [
    {
     "data": {
      "text/plain": [
       "<tr> <td class=\"tb\">\n",
       "                人员规模\n",
       "            </td> <td class=\"\">\n",
       "                100-499人\n",
       "            </td> <td class=\"tb\">\n",
       "                营业期限\n",
       "            </td> <td class=\"\">\n",
       "                2015-03-23 至 无固定期限\n",
       "            </td> </tr>"
      ]
     },
     "execution_count": 255,
     "metadata": {},
     "output_type": "execute_result"
    }
   ],
   "source": [
    "# 人员规模, 营业期限\n",
    "table2.find_all('tr')[8]"
   ]
  },
  {
   "cell_type": "code",
   "execution_count": 256,
   "metadata": {},
   "outputs": [
    {
     "data": {
      "text/plain": [
       "<tr> <td class=\"tb\">企业地址</td> <td class=\"\" colspan=\"3\">\n",
       "                 广州市天河区黄埔大道中309号自编3-23D-1G(仅限办公用途)\n",
       "                <a class=\"m-l c_a\" onclick=\"showMapModal('广州市天河区黄埔大道中309号自编3-23D-1G(仅限办公用途)','广州市');zhugeTrack('企业主页-查看地址',{'企业名称':'广州零壹沃土互联网金融信息服务有限公司'});\"> 查看地图</a> <a class=\"m-l c_a\" href=\"/map?keyNo=8276bd9bbae49966f0a0c2b708775df7\" onclick=\"zhugeTrack('企业主页-附近企业',{'企业名称':'广州零壹沃土互联网金融信息服务有限公司'});\"> 附近企业</a> </td> </tr>"
      ]
     },
     "execution_count": 256,
     "metadata": {},
     "output_type": "execute_result"
    }
   ],
   "source": [
    "# 企业地址\n",
    "table2.find_all('tr')[9]"
   ]
  },
  {
   "cell_type": "code",
   "execution_count": 257,
   "metadata": {},
   "outputs": [
    {
     "data": {
      "text/plain": [
       "<tr> <td class=\"tb\">经营范围</td> <td class=\"\" colspan=\"3\">\n",
       "                 互联网金融信息服务(根据国家规定需要审批的,获得审批后方可经营);企业自有资金投资;企业财务咨询服务;投资咨询服务;投资管理服务;物业管理;场地租赁(不含仓储);             </td> </tr>"
      ]
     },
     "execution_count": 257,
     "metadata": {},
     "output_type": "execute_result"
    }
   ],
   "source": [
    "# 经营范围\n",
    "table2.find_all('tr')[10]"
   ]
  },
  {
   "cell_type": "markdown",
   "metadata": {},
   "source": [
    "### 对外投资"
   ]
  },
  {
   "cell_type": "code",
   "execution_count": 289,
   "metadata": {},
   "outputs": [],
   "source": [
    "panel = basic_soup.select_one(\"#base_div #touzilist\")"
   ]
  },
  {
   "cell_type": "code",
   "execution_count": 298,
   "metadata": {},
   "outputs": [],
   "source": [
    "# 对外投资数量\n",
    "if panel == None:\n",
    "    print(\"no data\")\n",
    "else:\n",
    "    panel.select_one(\"div\").find(\"span\", {'class': 'tbadge'}).text"
   ]
  },
  {
   "cell_type": "markdown",
   "metadata": {},
   "source": [
    "### 分支机构"
   ]
  },
  {
   "cell_type": "code",
   "execution_count": 280,
   "metadata": {},
   "outputs": [],
   "source": [
    "panel = basic_soup.select_one(\"#base_div #branchelist\")"
   ]
  },
  {
   "cell_type": "code",
   "execution_count": 286,
   "metadata": {},
   "outputs": [],
   "source": [
    "# 分支机构数量\n",
    "if panel == None:\n",
    "    print(\"no data\")\n",
    "else:\n",
    "    panel.select_one(\"div\").find(\"span\", {'class': 'tbadge'}).text"
   ]
  },
  {
   "cell_type": "markdown",
   "metadata": {},
   "source": [
    "## Get company development information"
   ]
  },
  {
   "cell_type": "code",
   "execution_count": 148,
   "metadata": {
    "code_folding": [
     1
    ]
   },
   "outputs": [],
   "source": [
    "# define the header for getting development information\n",
    "header_dev_info = {\n",
    "    \"User-Agent\": \"Mozilla/5.0 (Macintosh; Intel Mac OS X 10_14_5) AppleWebKit/537.36 (KHTML, like Gecko) Chrome/75.0.3770.100 Safari/537.36\",\n",
    "    \"Accept\": \"text/html, */*; q=0.01\",\n",
    "    \"Accept-Language\": \"en,zh-CN;q=0.9,zh;q=0.8,zh-HK;q=0.7\",\n",
    "    \"Accept-Encoding\": \"gzip, deflate, br\",\n",
    "    \"Connection\": \"keep-alive\",\n",
    "    \"X-Requested-With\": \"XMLHttpRequest\",\n",
    "    ############# need to be modify ##########\n",
    "    \"Host\": \"www.qichacha.com\",\n",
    "    \"Cookie\": cookie\n",
    "}"
   ]
  },
  {
   "cell_type": "code",
   "execution_count": 149,
   "metadata": {
    "code_folding": [
     0
    ]
   },
   "outputs": [],
   "source": [
    "def get_dev_info_soup(header_dev_info: dict, \\\n",
    "                      uid_list: list) -> List[BeautifulSoup]:\n",
    "\n",
    "    # generate header for getting development information\n",
    "    header_dev_info_list = [dict(header_dev_info, \\\n",
    "                             **{\"Referer\": \"https://www.qichacha.com/firm_{}.html\"\\\n",
    "                                .format(uid)}) for uid in uid_list]\n",
    "\n",
    "    # # generate the request url for getting development information\n",
    "    dev_request_url_list = [\"https://www.qichacha.com/company_getinfos?\"\\\n",
    "                            \"unique={0}&\"\\\n",
    "                            \"companyname={1}&\"\\\n",
    "                            \"tab=report\".format(uid, parse.quote(name)) \\\n",
    "                            for uid, name in zip(uid_list, company_list)]\n",
    "    \n",
    "    soup_dev_info_list = []\n",
    "    for header, url in tqdm_notebook(zip(header_dev_info_list, dev_request_url_list), \\\n",
    "                                     total=len(header_dev_info_list)):\n",
    "        response = requests.get(url, headers=header)\n",
    "        soup_dev_info_list.append(BeautifulSoup(response.content))\n",
    "    \n",
    "    return soup_dev_info_list"
   ]
  },
  {
   "cell_type": "code",
   "execution_count": 150,
   "metadata": {},
   "outputs": [
    {
     "data": {
      "application/vnd.jupyter.widget-view+json": {
       "model_id": "8d80ce9f824e46dda9647b94aa40e084",
       "version_major": 2,
       "version_minor": 0
      },
      "text/plain": [
       "HBox(children=(IntProgress(value=0, max=10), HTML(value='')))"
      ]
     },
     "metadata": {},
     "output_type": "display_data"
    },
    {
     "name": "stdout",
     "output_type": "stream",
     "text": [
      "\n"
     ]
    }
   ],
   "source": [
    "soup_dev_info_list = get_dev_info_soup(header_dev_info, uid_list)"
   ]
  },
  {
   "cell_type": "code",
   "execution_count": 152,
   "metadata": {},
   "outputs": [],
   "source": [
    "# save the soup_dev_info_list to files\n",
    "for uid, dev_soup in tqdm_notebook(zip(uid_list, soup_dev_info_list), \\\n",
    "                                   total=len(soup_dev_info_list)):\n",
    "    with open(\"dev_soup_list/{}.soup\".format(uid), 'w') as f:\n",
    "        f.write(str(dev_soup))\n",
    "# read from files\n",
    "soup_dev_info_list = []\n",
    "for file_name in glob('dev_soup_list/*'):\n",
    "    with open(file_name, 'r') as f:\n",
    "        soup_dev_info_list.append(BeautifulSoup(f.read()))"
   ]
  },
  {
   "cell_type": "markdown",
   "metadata": {},
   "source": [
    "## Parse development information"
   ]
  },
  {
   "cell_type": "code",
   "execution_count": 305,
   "metadata": {},
   "outputs": [],
   "source": [
    "soup_dev_info = soup_dev_info_list[0]\n",
    "main_panel = soup_dev_info.find(\"div\", {'id': 0})"
   ]
  },
  {
   "cell_type": "markdown",
   "metadata": {},
   "source": [
    "### 企业基本信息"
   ]
  },
  {
   "cell_type": "code",
   "execution_count": 307,
   "metadata": {},
   "outputs": [],
   "source": [
    "panel = main_panel.find_all('table')[0]"
   ]
  },
  {
   "cell_type": "code",
   "execution_count": 311,
   "metadata": {},
   "outputs": [
    {
     "data": {
      "text/plain": [
       "<tr> <td class=\"tb\" width=\"20%\">注册号</td> <td width=\"30%\">440126000546588</td> <td class=\"tb\" width=\"20%\">统一社会信用代码</td> <td width=\"30%\">91440113331455835J</td> </tr>"
      ]
     },
     "execution_count": 311,
     "metadata": {},
     "output_type": "execute_result"
    }
   ],
   "source": [
    "# 注册号, 统一社会信用代码\n",
    "panel.find_all('tr')[0]"
   ]
  },
  {
   "cell_type": "code",
   "execution_count": 312,
   "metadata": {},
   "outputs": [
    {
     "data": {
      "text/plain": [
       "<tr> <td class=\"tb\" width=\"20%\">企业经营状态</td> <td width=\"30%\">开业</td> <td class=\"tb\" width=\"20%\">企业联系电话</td> <td width=\"25%\">020-85200201</td> </tr>"
      ]
     },
     "execution_count": 312,
     "metadata": {},
     "output_type": "execute_result"
    }
   ],
   "source": [
    "# 企业经营状态, 企业联系电话\n",
    "panel.find_all('tr')[1]"
   ]
  },
  {
   "cell_type": "code",
   "execution_count": 313,
   "metadata": {},
   "outputs": [
    {
     "data": {
      "text/plain": [
       "<tr> <td class=\"tb\" width=\"20%\">从业人数\t</td> <td width=\"25%\">企业选择不公示</td> <td class=\"tb\" width=\"20%\">邮政编码</td> <td width=\"25%\">510000</td> </tr>"
      ]
     },
     "execution_count": 313,
     "metadata": {},
     "output_type": "execute_result"
    }
   ],
   "source": [
    "# 从业人数, 邮政编码\n",
    "panel.find_all('tr')[2]"
   ]
  },
  {
   "cell_type": "code",
   "execution_count": 314,
   "metadata": {},
   "outputs": [
    {
     "data": {
      "text/plain": [
       "<tr> <td class=\"tb\" width=\"20%\">有限责任公司本年度是否发生股东股权转让</td> <td>否</td> <td class=\"tb\" width=\"20%\">企业是否有投资信息或购买其他公司股权</td> <td colspan=\"3\">是</td> </tr>"
      ]
     },
     "execution_count": 314,
     "metadata": {},
     "output_type": "execute_result"
    }
   ],
   "source": [
    "# 有限责任公司本年度是否发生股东股权转让, 企业是否有投资信息或购买其他公司股权\n",
    "panel.find_all('tr')[3]"
   ]
  },
  {
   "cell_type": "code",
   "execution_count": 315,
   "metadata": {},
   "outputs": [
    {
     "data": {
      "text/plain": [
       "<tr> <td class=\"tb\" width=\"20%\">电子邮箱</td> <td colspan=\"3\"><a href=\"mailto:denny.lin@01zc.com\" style=\"color:#555;\">denny.lin@01zc.com</a></td> </tr>"
      ]
     },
     "execution_count": 315,
     "metadata": {},
     "output_type": "execute_result"
    }
   ],
   "source": [
    "# 电子邮箱\n",
    "panel.find_all('tr')[4]"
   ]
  },
  {
   "cell_type": "code",
   "execution_count": 316,
   "metadata": {},
   "outputs": [
    {
     "data": {
      "text/plain": [
       "<tr> <td class=\"tb\" width=\"20%\">企业通讯地址</td> <td colspan=\"3\"><a onclick=\"showMapModal('广州市天河区黄埔大道中309号自编3-23D-1G（仅限办公用途）','')\">广州市天河区黄埔大道中309号自编3-23D-1G（仅限办公用途）</a></td> </tr>"
      ]
     },
     "execution_count": 316,
     "metadata": {},
     "output_type": "execute_result"
    }
   ],
   "source": [
    "# 企业通讯地址\n",
    "panel.find_all('tr')[5]"
   ]
  },
  {
   "cell_type": "markdown",
   "metadata": {},
   "source": [
    "### 企业资产状况信息"
   ]
  },
  {
   "cell_type": "code",
   "execution_count": 321,
   "metadata": {},
   "outputs": [],
   "source": [
    "panel = main_panel.find_all('table')[3]"
   ]
  },
  {
   "cell_type": "code",
   "execution_count": 323,
   "metadata": {},
   "outputs": [
    {
     "data": {
      "text/plain": [
       "<tr> <td class=\"tb\" width=\"20%\">资产总额</td> <td>企业选择不公示</td> <td class=\"tb\" width=\"20%\">所有者权益合计</td> <td>企业选择不公示</td> </tr>"
      ]
     },
     "execution_count": 323,
     "metadata": {},
     "output_type": "execute_result"
    }
   ],
   "source": [
    "# 资产总额, 所有者权益合计\n",
    "panel.find_all('tr')[0]"
   ]
  },
  {
   "cell_type": "code",
   "execution_count": 324,
   "metadata": {},
   "outputs": [
    {
     "data": {
      "text/plain": [
       "<tr> <td class=\"tb\">营业总收入\t</td> <td>企业选择不公示</td> <td class=\"tb\">利润总额\t</td> <td>企业选择不公示</td> </tr>"
      ]
     },
     "execution_count": 324,
     "metadata": {},
     "output_type": "execute_result"
    }
   ],
   "source": [
    "# 营业总收入, 利润总额\n",
    "panel.find_all('tr')[1]"
   ]
  },
  {
   "cell_type": "code",
   "execution_count": 325,
   "metadata": {},
   "outputs": [
    {
     "data": {
      "text/plain": [
       "<tr> <td class=\"tb\">营业总收入中主营业务收入\t</td> <td>企业选择不公示</td> <td class=\"tb\">净利润\t</td> <td>企业选择不公示</td> </tr>"
      ]
     },
     "execution_count": 325,
     "metadata": {},
     "output_type": "execute_result"
    }
   ],
   "source": [
    "# 营业总收入中主营业务收入, 净利润\n",
    "panel.find_all('tr')[2]"
   ]
  },
  {
   "cell_type": "code",
   "execution_count": 326,
   "metadata": {},
   "outputs": [
    {
     "data": {
      "text/plain": [
       "<tr> <td class=\"tb\">纳税总额\t</td> <td>企业选择不公示</td> <td class=\"tb\">负债总额\t</td> <td>企业选择不公示</td> </tr>"
      ]
     },
     "execution_count": 326,
     "metadata": {},
     "output_type": "execute_result"
    }
   ],
   "source": [
    "# 纳税总额, 负债总额\n",
    "panel.find_all('tr')[3]"
   ]
  },
  {
   "cell_type": "markdown",
   "metadata": {},
   "source": [
    "### 社保信息"
   ]
  },
  {
   "cell_type": "code",
   "execution_count": 327,
   "metadata": {},
   "outputs": [],
   "source": [
    "panel = main_panel.find_all('table')[4]"
   ]
  },
  {
   "cell_type": "code",
   "execution_count": 329,
   "metadata": {},
   "outputs": [
    {
     "data": {
      "text/plain": [
       "<tr> <td class=\"tb\" width=\"22%\">城镇职工基本养老保险</td> <td width=\"30%\">8人</td> <td class=\"tb\" width=\"20%\">职工基本医疗保险</td> <td width=\"30%\">8人</td> </tr>"
      ]
     },
     "execution_count": 329,
     "metadata": {},
     "output_type": "execute_result"
    }
   ],
   "source": [
    "# 城镇职工基本养老保险, 职工基本医疗保险\n",
    "panel.find_all('tr')[0]"
   ]
  },
  {
   "cell_type": "code",
   "execution_count": 330,
   "metadata": {},
   "outputs": [
    {
     "data": {
      "text/plain": [
       "<tr> <td class=\"tb\" width=\"20%\">生育保险</td> <td width=\"25%\">8人</td> <td class=\"tb\" width=\"20%\">失业保险</td> <td width=\"30%\">8人</td> </tr>"
      ]
     },
     "execution_count": 330,
     "metadata": {},
     "output_type": "execute_result"
    }
   ],
   "source": [
    "# 生育保险, 失业保险\n",
    "panel.find_all('tr')[1]"
   ]
  },
  {
   "cell_type": "code",
   "execution_count": 331,
   "metadata": {},
   "outputs": [
    {
     "data": {
      "text/plain": [
       "<tr> <td class=\"tb\" width=\"20%\">工伤保险</td> <td colspan=\"3\" width=\"25%\">8人</td> </tr>"
      ]
     },
     "execution_count": 331,
     "metadata": {},
     "output_type": "execute_result"
    }
   ],
   "source": [
    "# 工伤保险\n",
    "panel.find_all('tr')[2]"
   ]
  },
  {
   "cell_type": "code",
   "execution_count": null,
   "metadata": {},
   "outputs": [],
   "source": []
  },
  {
   "cell_type": "code",
   "execution_count": null,
   "metadata": {},
   "outputs": [],
   "source": []
  },
  {
   "cell_type": "code",
   "execution_count": null,
   "metadata": {},
   "outputs": [],
   "source": []
  },
  {
   "cell_type": "code",
   "execution_count": null,
   "metadata": {},
   "outputs": [],
   "source": []
  },
  {
   "cell_type": "code",
   "execution_count": null,
   "metadata": {},
   "outputs": [],
   "source": []
  },
  {
   "cell_type": "markdown",
   "metadata": {},
   "source": [
    "## Combine base and adv info"
   ]
  },
  {
   "cell_type": "code",
   "execution_count": null,
   "metadata": {},
   "outputs": [],
   "source": [
    "df = pd.concat([index_name_uid_df, \\\n",
    "                base_info_df.drop(columns=['name']), \\\n",
    "                adv_info_df], axis=1, sort=False)"
   ]
  },
  {
   "cell_type": "code",
   "execution_count": null,
   "metadata": {},
   "outputs": [],
   "source": [
    "# add new columns: firm info site page\n",
    "df['firm_info_site'] = df['uid'].map(lambda x: \\\n",
    "                                     \"https://www.qichacha.com/firm_{}.html\".format(x))\n",
    "# save df to xlsx\n",
    "df.to_excel('../all_df.xlsx')\n",
    "# read from xlsx\n",
    "# df = pd.read_excel('../all_df.xlsx', index_col=0)"
   ]
  },
  {
   "cell_type": "markdown",
   "metadata": {},
   "source": [
    "## Write into excel file"
   ]
  },
  {
   "cell_type": "code",
   "execution_count": null,
   "metadata": {},
   "outputs": [],
   "source": [
    "to_excel_file('../sample.xlsx', df)"
   ]
  }
 ],
 "metadata": {
  "kernelspec": {
   "display_name": "Python 3",
   "language": "python",
   "name": "python3"
  },
  "language_info": {
   "codemirror_mode": {
    "name": "ipython",
    "version": 3
   },
   "file_extension": ".py",
   "mimetype": "text/x-python",
   "name": "python",
   "nbconvert_exporter": "python",
   "pygments_lexer": "ipython3",
   "version": "3.7.2"
  },
  "toc": {
   "base_numbering": 1,
   "nav_menu": {},
   "number_sections": true,
   "sideBar": true,
   "skip_h1_title": false,
   "title_cell": "Table of Contents",
   "title_sidebar": "Contents",
   "toc_cell": true,
   "toc_position": {},
   "toc_section_display": true,
   "toc_window_display": false
  }
 },
 "nbformat": 4,
 "nbformat_minor": 2
}
