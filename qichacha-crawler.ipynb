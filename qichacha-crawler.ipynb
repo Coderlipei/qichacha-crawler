{
 "cells": [
  {
   "cell_type": "markdown",
   "metadata": {
    "toc": true
   },
   "source": [
    "<h1>Table of Contents<span class=\"tocSkip\"></span></h1>\n",
    "<div class=\"toc\"><ul class=\"toc-item\"><li><span><a href=\"#Set-cookies\" data-toc-modified-id=\"Set-cookies-1\"><span class=\"toc-item-num\">1&nbsp;&nbsp;</span>Set cookies</a></span></li><li><span><a href=\"#Get-company-name-list\" data-toc-modified-id=\"Get-company-name-list-2\"><span class=\"toc-item-num\">2&nbsp;&nbsp;</span>Get company name list</a></span></li><li><span><a href=\"#Get-firm-uid\" data-toc-modified-id=\"Get-firm-uid-3\"><span class=\"toc-item-num\">3&nbsp;&nbsp;</span>Get firm uid</a></span></li><li><span><a href=\"#Get-basic-information\" data-toc-modified-id=\"Get-basic-information-4\"><span class=\"toc-item-num\">4&nbsp;&nbsp;</span>Get basic information</a></span></li><li><span><a href=\"#Parse-basic-information\" data-toc-modified-id=\"Parse-basic-information-5\"><span class=\"toc-item-num\">5&nbsp;&nbsp;</span>Parse basic information</a></span></li><li><span><a href=\"#Get-company-development-information\" data-toc-modified-id=\"Get-company-development-information-6\"><span class=\"toc-item-num\">6&nbsp;&nbsp;</span>Get company development information</a></span></li><li><span><a href=\"#Parse-development-information\" data-toc-modified-id=\"Parse-development-information-7\"><span class=\"toc-item-num\">7&nbsp;&nbsp;</span>Parse development information</a></span></li><li><span><a href=\"#Generate-all-company-information-dictionary\" data-toc-modified-id=\"Generate-all-company-information-dictionary-8\"><span class=\"toc-item-num\">8&nbsp;&nbsp;</span>Generate all company information dictionary</a></span></li><li><span><a href=\"#Combine-base-and-adv-info\" data-toc-modified-id=\"Combine-base-and-adv-info-9\"><span class=\"toc-item-num\">9&nbsp;&nbsp;</span>Combine base and adv info</a></span></li><li><span><a href=\"#Write-into-excel-file\" data-toc-modified-id=\"Write-into-excel-file-10\"><span class=\"toc-item-num\">10&nbsp;&nbsp;</span>Write into excel file</a></span></li></ul></div>"
   ]
  },
  {
   "cell_type": "code",
   "execution_count": 114,
   "metadata": {},
   "outputs": [
    {
     "name": "stdout",
     "output_type": "stream",
     "text": [
      "The autoreload extension is already loaded. To reload it, use:\n",
      "  %reload_ext autoreload\n"
     ]
    }
   ],
   "source": [
    "%load_ext autoreload\n",
    "%autoreload 2"
   ]
  },
  {
   "cell_type": "code",
   "execution_count": 456,
   "metadata": {},
   "outputs": [],
   "source": [
    "from bs4 import BeautifulSoup\n",
    "from urllib import parse\n",
    "import requests\n",
    "from tqdm import tqdm_notebook\n",
    "from time import sleep\n",
    "import pandas as pd\n",
    "import openpyxl\n",
    "from typing import List\n",
    "import pickle\n",
    "from glob import glob\n",
    "import pandas as pd\n",
    "# from utils import *"
   ]
  },
  {
   "cell_type": "markdown",
   "metadata": {},
   "source": [
    "## Set cookies"
   ]
  },
  {
   "cell_type": "code",
   "execution_count": 119,
   "metadata": {},
   "outputs": [],
   "source": [
    "cookie = \"QCCSESSID=r18mmd4r1lvs24cca9t43969b5; zg_did=%7B%22did%22%3A%20%2216bc94370d11b4-047d80b89838b1-37677e02-384000-16bc94370d2471%22%7D; UM_distinctid=16bc94371142a0-021542bc12af83-37677e02-384000-16bc9437115489; _uab_collina=156244976879017749455047; acw_tc=2ff6129815624497682152240ef19f61e0ffef38ea7b331d445687c36c; Hm_lvt_3456bee468c83cc63fb5147f119f1075=1562449769,1562911126; CNZZDATA1254842228=1120220450-1562445588-https%253A%252F%252Fwww.qichacha.com%252F%7C1563334157; hasShow=1; Hm_lpvt_3456bee468c83cc63fb5147f119f1075=1563338099; zg_de1d1a35bfa24ce29bbf2c7eb17e6c4f=%7B%22sid%22%3A%201563334592268%2C%22updated%22%3A%201563338100242%2C%22info%22%3A%201563154163097%2C%22superProperty%22%3A%20%22%7B%7D%22%2C%22platform%22%3A%20%22%7B%7D%22%2C%22utm%22%3A%20%22%7B%7D%22%2C%22referrerDomain%22%3A%20%22%22%2C%22cuid%22%3A%20%22af5c198de42103292f80181258ee27a7%22%7D\""
   ]
  },
  {
   "cell_type": "markdown",
   "metadata": {},
   "source": [
    "## Get company name list"
   ]
  },
  {
   "cell_type": "code",
   "execution_count": 106,
   "metadata": {},
   "outputs": [
    {
     "name": "stdout",
     "output_type": "stream",
     "text": [
      "100\n"
     ]
    }
   ],
   "source": [
    "index_names_df = pd.read_csv('index_name.csv', \\\n",
    "                             sep='\\t', \\\n",
    "                             header=None,  \\\n",
    "                             names=['id', 'name'])\n",
    "company_list = index_names_df['name'].tolist()\n",
    "print(len(company_list))\n",
    "\n",
    "# we take 10 companies for testing\n",
    "company_list = company_list[:10]"
   ]
  },
  {
   "cell_type": "markdown",
   "metadata": {},
   "source": [
    "## Get firm uid"
   ]
  },
  {
   "cell_type": "code",
   "execution_count": 100,
   "metadata": {
    "code_folding": [
     1
    ]
   },
   "outputs": [],
   "source": [
    "# define the header which includes cookies\n",
    "header_uids = {\n",
    "    \"User-Agent\": \"Mozilla/5.0 (Macintosh; Intel Mac OS X 10_14_5) AppleWebKit/537.36 (KHTML, like Gecko) Chrome/75.0.3770.100 Safari/537.36\",\n",
    "    \"Accept\": \"text/html, */*; q=0.01\",\n",
    "    \"Accept-Language\": \"en,zh-CN;q=0.9,zh;q=0.8,zh-HK;q=0.7\",\n",
    "    \"Accept-Encoding\": \"gzip, deflate, br\",\n",
    "    \"Connection\": \"keep-alive\",\n",
    "    \"X-Requested-With\": \"XMLHttpRequest\",\n",
    "    ############# need to be modify ##########\n",
    "    \"Host\": \"www.qichacha.com\",\n",
    "    \"Referer\": \"https://www.qichacha.com/\",\n",
    "    \"Cookie\": cookie\n",
    "}"
   ]
  },
  {
   "cell_type": "code",
   "execution_count": 111,
   "metadata": {
    "code_folding": [
     0
    ]
   },
   "outputs": [],
   "source": [
    "def get_firm_uid(header_uids: dict, name_list: list) -> List[str]:\n",
    "    \n",
    "    # define the request url for getting company uid\n",
    "    uid_request_url_list = [\"https://www.qichacha.com/search?key={}\"\\\n",
    "                            .format(parse.quote(name)) for name in name_list]\n",
    "    uid_list = []\n",
    "    for url in tqdm_notebook(uid_request_url_list):\n",
    "        response = requests.get(url, headers=header_uids)\n",
    "        soup = BeautifulSoup(response.content)\n",
    "        uid_list.append(soup.select_one(\"#searchlist table.m_srchList \"\\\n",
    "                                        \"tbody#search-result tr.frtrt \"\\\n",
    "                                        \"td.checktd label.text-dark-lter \"\\\n",
    "                                        \"input\").get('value'))\n",
    "    return uid_list"
   ]
  },
  {
   "cell_type": "code",
   "execution_count": 73,
   "metadata": {},
   "outputs": [],
   "source": [
    "uid_list = get_firm_uid(header_uids, name_list=company_list)"
   ]
  },
  {
   "cell_type": "code",
   "execution_count": 107,
   "metadata": {
    "scrolled": false
   },
   "outputs": [
    {
     "data": {
      "text/plain": [
       "'8276bd9bbae49966f0a0c2b708775df7'"
      ]
     },
     "execution_count": 107,
     "metadata": {},
     "output_type": "execute_result"
    }
   ],
   "source": [
    "uid_list[0]"
   ]
  },
  {
   "cell_type": "markdown",
   "metadata": {},
   "source": [
    "## Get basic information"
   ]
  },
  {
   "cell_type": "code",
   "execution_count": 120,
   "metadata": {
    "code_folding": [
     1
    ]
   },
   "outputs": [],
   "source": [
    "# define the header for getting basic information\n",
    "header_basic_info = {\n",
    "    \"User-Agent\": \"Mozilla/5.0 (Macintosh; Intel Mac OS X 10_14_5) AppleWebKit/537.36 (KHTML, like Gecko) Chrome/75.0.3770.100 Safari/537.36\",\n",
    "    \"Accept\": \"text/html, */*; q=0.01\",\n",
    "    \"Accept-Language\": \"en,zh-CN;q=0.9,zh;q=0.8,zh-HK;q=0.7\",\n",
    "    \"Accept-Encoding\": \"gzip, deflate, br\",\n",
    "    \"Connection\": \"keep-alive\",\n",
    "    \"X-Requested-With\": \"XMLHttpRequest\",\n",
    "    ############# need to be modify ##########\n",
    "    \"Host\": \"www.qichacha.com\",\n",
    "    \"Cookie\": cookie\n",
    "}"
   ]
  },
  {
   "cell_type": "code",
   "execution_count": 147,
   "metadata": {
    "code_folding": [
     0
    ]
   },
   "outputs": [],
   "source": [
    "def get_basic_info_soup(header_basic_info: dict, \\\n",
    "                        uid_list: list) -> List[BeautifulSoup]:\n",
    "    \n",
    "    # generate basic information request url\n",
    "    basic_info_request_url_list = [\"https://www.qichacha.com/firm_{}.html\"\\\n",
    "                                   .format(uid) for uid in uid_list]\n",
    "    \n",
    "    basic_soup_list = []\n",
    "    for url in tqdm_notebook(basic_info_request_url_list):\n",
    "        response = requests.get(url, headers=header_basic_info)\n",
    "        basic_soup_list.append(BeautifulSoup(response.content))\n",
    "    \n",
    "    return basic_soup_list"
   ]
  },
  {
   "cell_type": "code",
   "execution_count": 122,
   "metadata": {},
   "outputs": [
    {
     "data": {
      "application/vnd.jupyter.widget-view+json": {
       "model_id": "cb97c202a36b4677b2d35bd41a9f8c3d",
       "version_major": 2,
       "version_minor": 0
      },
      "text/plain": [
       "HBox(children=(IntProgress(value=0, max=10), HTML(value='')))"
      ]
     },
     "metadata": {},
     "output_type": "display_data"
    },
    {
     "name": "stdout",
     "output_type": "stream",
     "text": [
      "\n"
     ]
    }
   ],
   "source": [
    "basic_soup_list = get_basic_info_soup(header_basic_info, uid_list)"
   ]
  },
  {
   "cell_type": "code",
   "execution_count": 135,
   "metadata": {},
   "outputs": [
    {
     "data": {
      "application/vnd.jupyter.widget-view+json": {
       "model_id": "75e9617a5d3b4aebb7c8c6f34d5fb27b",
       "version_major": 2,
       "version_minor": 0
      },
      "text/plain": [
       "HBox(children=(IntProgress(value=0, max=10), HTML(value='')))"
      ]
     },
     "metadata": {},
     "output_type": "display_data"
    },
    {
     "name": "stdout",
     "output_type": "stream",
     "text": [
      "\n"
     ]
    }
   ],
   "source": [
    "# save the basic_soup_list to files\n",
    "for uid, basic_soup in tqdm_notebook(zip(uid_list, basic_soup_list), \\\n",
    "                                     total=len(basic_soup_list)):\n",
    "    with open(\"basic_soup_list/{}.soup\".format(uid), 'w') as f:\n",
    "        f.write(str(basic_soup))\n",
    "        \n",
    "# read from files\n",
    "basic_soup_list = []\n",
    "for file_name in glob('basic_soup_list/*'):\n",
    "with open(file_name, 'r') as f:\n",
    "    basic_soup_list.append(BeautifulSoup(f.read()))"
   ]
  },
  {
   "cell_type": "markdown",
   "metadata": {},
   "source": [
    "## Parse basic information"
   ]
  },
  {
   "cell_type": "code",
   "execution_count": 472,
   "metadata": {
    "code_folding": [
     0,
     5
    ]
   },
   "outputs": [],
   "source": [
    "def parse_basic_info(basic_soup: BeautifulSoup) -> dict:\n",
    "    \n",
    "    info_dict = {}\n",
    "    \n",
    "    # a helper function \n",
    "    def _helper_fun_get_key_value_add_to_dict(_row, info_dict):\n",
    "        _key = _row.find_all('td')[0].text.strip()\n",
    "        _value = _row.find_all('td')[1].text.strip()\n",
    "        info_dict[_key] = _value\n",
    "        _key = _row.find_all('td')[2].text.strip()\n",
    "        _value = _row.find_all('td')[3].text.strip()\n",
    "        info_dict[_key] = _value\n",
    "        return info_dict\n",
    "\n",
    "    #\n",
    "    # 工商信息\n",
    "    #\n",
    "    panel = basic_soup.select_one(\"#base_div #Cominfo\")\n",
    "    table1 = panel.select(\"table\")[0]\n",
    "    table2 = panel.select(\"table\")[1]\n",
    "    \n",
    "    # 法定代表人信息\n",
    "    info_dict[\"法定代表人信息\"] = table1.find(\"h2\", {'class': 'seo font-20'}).text\n",
    "    \n",
    "    # 注册资本, 实缴资本\n",
    "    _row = table2.find_all('tr')[0]\n",
    "    info_dict = _helper_fun_get_key_value_add_to_dict(_row, info_dict)\n",
    "    \n",
    "    # 经营状态, 成立日期\n",
    "    _row = table2.find_all('tr')[1]\n",
    "    info_dict = _helper_fun_get_key_value_add_to_dict(_row, info_dict)\n",
    "    \n",
    "    # 统一社会信用代码, 纳税人识别号\n",
    "    _row = table2.find_all('tr')[2]\n",
    "    info_dict = _helper_fun_get_key_value_add_to_dict(_row, info_dict)\n",
    "    \n",
    "    # 注册号, 组织机构代码\n",
    "    _row = table2.find_all('tr')[3]\n",
    "    info_dict = _helper_fun_get_key_value_add_to_dict(_row, info_dict)\n",
    "    \n",
    "    # 企业类型, 所属行业\n",
    "    _row = table2.find_all('tr')[4]\n",
    "    info_dict = _helper_fun_get_key_value_add_to_dict(_row, info_dict)\n",
    "    \n",
    "    # 核准日期, 登记机关\n",
    "    _row = table2.find_all('tr')[5]\n",
    "    info_dict = _helper_fun_get_key_value_add_to_dict(_row, info_dict)\n",
    "    \n",
    "    # 所属地区, 英文名\n",
    "    _row = table2.find_all('tr')[6]\n",
    "    info_dict = _helper_fun_get_key_value_add_to_dict(_row, info_dict)\n",
    "    \n",
    "    # 曾用名, 参保人数\n",
    "    _row = table2.find_all('tr')[7]\n",
    "    _key = _row.find_all('td')[0].text.strip()\n",
    "    _value = ', '.join(_row.find_all('td')[1].text.strip().split())\n",
    "    info_dict[_key] = _value\n",
    "    _key = _row.find_all('td')[2].text.strip()\n",
    "    _value = _row.find_all('td')[3].text.strip()\n",
    "    info_dict[_key] = _value\n",
    "    \n",
    "    # 人员规模, 营业期限\n",
    "    _row = table2.find_all('tr')[8]\n",
    "    info_dict = _helper_fun_get_key_value_add_to_dict(_row, info_dict)\n",
    "    \n",
    "    # 企业地址\n",
    "    _row = table2.find_all('tr')[9]\n",
    "    _key = _row.find_all('td')[0].text.strip()\n",
    "    _value = _row.find_all('td')[1].text.strip().split('\\n')[0]\n",
    "    info_dict[_key] = _value\n",
    "    \n",
    "    # 经营范围\n",
    "    _row = table2.find_all('tr')[10]\n",
    "    _key = _row.find_all('td')[0].text.strip()\n",
    "    _value = _row.find_all('td')[1].text.strip()\n",
    "    \n",
    "    #\n",
    "    # 对外投资\n",
    "    #\n",
    "    panel = basic_soup.select_one(\"#base_div #touzilist\")\n",
    "    # 对外投资数量\n",
    "    if panel == None:\n",
    "        info_dict[\"对外投资数量\"] = 'None'\n",
    "    else:\n",
    "        info_dict[\"对外投资数量\"] \\\n",
    "        = panel.select_one(\"div\").find(\"span\", {'class': 'tbadge'}).text\n",
    "    \n",
    "    #\n",
    "    # 分支机构\n",
    "    #\n",
    "    panel = basic_soup.select_one(\"#base_div #branchelist\")\n",
    "    # 分支机构数量\n",
    "    if panel == None:\n",
    "        info_dict[\"分支机构数量\"] = 'None'\n",
    "    else:\n",
    "        info_dict[\"分支机构数量\"] \\\n",
    "        = panel.select_one(\"div\").find(\"span\", {'class': 'tbadge'}).text\n",
    "    \n",
    "    return info_dict"
   ]
  },
  {
   "cell_type": "markdown",
   "metadata": {},
   "source": [
    "## Get company development information"
   ]
  },
  {
   "cell_type": "code",
   "execution_count": 148,
   "metadata": {
    "code_folding": [
     1
    ]
   },
   "outputs": [],
   "source": [
    "# define the header for getting development information\n",
    "header_dev_info = {\n",
    "    \"User-Agent\": \"Mozilla/5.0 (Macintosh; Intel Mac OS X 10_14_5) AppleWebKit/537.36 (KHTML, like Gecko) Chrome/75.0.3770.100 Safari/537.36\",\n",
    "    \"Accept\": \"text/html, */*; q=0.01\",\n",
    "    \"Accept-Language\": \"en,zh-CN;q=0.9,zh;q=0.8,zh-HK;q=0.7\",\n",
    "    \"Accept-Encoding\": \"gzip, deflate, br\",\n",
    "    \"Connection\": \"keep-alive\",\n",
    "    \"X-Requested-With\": \"XMLHttpRequest\",\n",
    "    ############# need to be modify ##########\n",
    "    \"Host\": \"www.qichacha.com\",\n",
    "    \"Cookie\": cookie\n",
    "}"
   ]
  },
  {
   "cell_type": "code",
   "execution_count": 149,
   "metadata": {
    "code_folding": [
     0
    ]
   },
   "outputs": [],
   "source": [
    "def get_dev_info_soup(header_dev_info: dict, \\\n",
    "                      uid_list: list) -> List[BeautifulSoup]:\n",
    "\n",
    "    # generate header for getting development information\n",
    "    header_dev_info_list = [dict(header_dev_info, \\\n",
    "                             **{\"Referer\": \"https://www.qichacha.com/firm_{}.html\"\\\n",
    "                                .format(uid)}) for uid in uid_list]\n",
    "\n",
    "    # # generate the request url for getting development information\n",
    "    dev_request_url_list = [\"https://www.qichacha.com/company_getinfos?\"\\\n",
    "                            \"unique={0}&\"\\\n",
    "                            \"companyname={1}&\"\\\n",
    "                            \"tab=report\".format(uid, parse.quote(name)) \\\n",
    "                            for uid, name in zip(uid_list, company_list)]\n",
    "    \n",
    "    soup_dev_info_list = []\n",
    "    for header, url in tqdm_notebook(zip(header_dev_info_list, dev_request_url_list), \\\n",
    "                                     total=len(header_dev_info_list)):\n",
    "        response = requests.get(url, headers=header)\n",
    "        soup_dev_info_list.append(BeautifulSoup(response.content))\n",
    "    \n",
    "    return soup_dev_info_list"
   ]
  },
  {
   "cell_type": "code",
   "execution_count": 150,
   "metadata": {},
   "outputs": [
    {
     "data": {
      "application/vnd.jupyter.widget-view+json": {
       "model_id": "8d80ce9f824e46dda9647b94aa40e084",
       "version_major": 2,
       "version_minor": 0
      },
      "text/plain": [
       "HBox(children=(IntProgress(value=0, max=10), HTML(value='')))"
      ]
     },
     "metadata": {},
     "output_type": "display_data"
    },
    {
     "name": "stdout",
     "output_type": "stream",
     "text": [
      "\n"
     ]
    }
   ],
   "source": [
    "soup_dev_info_list = get_dev_info_soup(header_dev_info, uid_list)"
   ]
  },
  {
   "cell_type": "code",
   "execution_count": 152,
   "metadata": {},
   "outputs": [],
   "source": [
    "# save the soup_dev_info_list to files\n",
    "for uid, dev_soup in tqdm_notebook(zip(uid_list, soup_dev_info_list), \\\n",
    "                                   total=len(soup_dev_info_list)):\n",
    "    with open(\"dev_soup_list/{}.soup\".format(uid), 'w') as f:\n",
    "        f.write(str(dev_soup))\n",
    "# read from files\n",
    "soup_dev_info_list = []\n",
    "for file_name in glob('dev_soup_list/*'):\n",
    "    with open(file_name, 'r') as f:\n",
    "        soup_dev_info_list.append(BeautifulSoup(f.read()))"
   ]
  },
  {
   "cell_type": "markdown",
   "metadata": {},
   "source": [
    "## Parse development information"
   ]
  },
  {
   "cell_type": "code",
   "execution_count": 517,
   "metadata": {
    "code_folding": [
     5
    ]
   },
   "outputs": [],
   "source": [
    "def parse_dev_info(dev_soup: BeautifulSoup) -> dict:\n",
    "    \n",
    "    info_dict = {}\n",
    "    \n",
    "    # a helper function \n",
    "    def _helper_fun_get_key_value_add_to_dict(_row, info_dict):\n",
    "        _key = _row.find_all('td')[0].text.strip()\n",
    "        _value = _row.find_all('td')[1].text.strip()\n",
    "        info_dict[_key] = _value\n",
    "        _key = _row.find_all('td')[2].text.strip()\n",
    "        _value = _row.find_all('td')[3].text.strip()\n",
    "        info_dict[_key] = _value\n",
    "        return info_dict\n",
    "    \n",
    "    main_panel = dev_soup.find(\"div\", {'id': 0})\n",
    "    \n",
    "    #\n",
    "    # 企业基本信息\n",
    "    #\n",
    "    panel = main_panel.find_all('table')[0]\n",
    "    \n",
    "    # 注册号, 统一社会信用代码\n",
    "    _row = panel.find_all('tr')[0]\n",
    "    info_dict = _helper_fun_get_key_value_add_to_dict(_row, info_dict)\n",
    "    \n",
    "    # 企业经营状态, 企业联系电话\n",
    "    _row = panel.find_all('tr')[1]\n",
    "    info_dict = _helper_fun_get_key_value_add_to_dict(_row, info_dict)\n",
    "    \n",
    "    # 从业人数, 邮政编码\n",
    "    _row = panel.find_all('tr')[2]\n",
    "    info_dict = _helper_fun_get_key_value_add_to_dict(_row, info_dict)\n",
    "    \n",
    "    # 有限责任公司本年度是否发生股东股权转让, 企业是否有投资信息或购买其他公司股权\n",
    "    _row = panel.find_all('tr')[3]\n",
    "    info_dict = _helper_fun_get_key_value_add_to_dict(_row, info_dict)\n",
    "    \n",
    "    # 电子邮箱\n",
    "    _row = panel.find_all('tr')[4]\n",
    "    _key = _row.find_all('td')[0].text.strip()\n",
    "    _value = _row.find_all('td')[1].text.strip()\n",
    "    info_dict[_key] = _value\n",
    "    \n",
    "    # 企业通讯地址\n",
    "    _row = panel.find_all('tr')[5]\n",
    "    _key = _row.find_all('td')[0].text.strip()\n",
    "    _value = _row.find_all('td')[1].text.strip().split('\\n')[0]\n",
    "    info_dict[_key] = _value\n",
    "    \n",
    "    #\n",
    "    # 企业资产状况信息\n",
    "    #\n",
    "    \n",
    "    # first we get the index of the table \n",
    "    table_names \\\n",
    "    = [name.text.strip().split()[0] \\\n",
    "       for name in main_panel.find_all('div')]\n",
    "    table_index = table_names.index(\"企业资产状况信息\")\n",
    "    panel = main_panel.find_all('table')[table_index]\n",
    "    \n",
    "    # 资产总额, 所有者权益合计\n",
    "    _row = panel.find_all('tr')[0]\n",
    "    info_dict = _helper_fun_get_key_value_add_to_dict(_row, info_dict)\n",
    "    \n",
    "    # 营业总收入, 利润总额\n",
    "    _row = panel.find_all('tr')[1]\n",
    "    info_dict = _helper_fun_get_key_value_add_to_dict(_row, info_dict)\n",
    "    \n",
    "    # 营业总收入中主营业务收入, 净利润\n",
    "    _row = panel.find_all('tr')[2]\n",
    "    info_dict = _helper_fun_get_key_value_add_to_dict(_row, info_dict)\n",
    "    \n",
    "    # 纳税总额, 负债总额\n",
    "    _row = panel.find_all('tr')[3]\n",
    "    info_dict = _helper_fun_get_key_value_add_to_dict(_row, info_dict)\n",
    "    \n",
    "    #\n",
    "    # 社保信息\n",
    "    #\n",
    "\n",
    "    # first we get the index of the table \n",
    "    table_names \\\n",
    "    = [name.text.strip().split()[0] \\\n",
    "       for name in main_panel.find_all('div')]\n",
    "    table_index = table_names.index(\"社保信息\")\n",
    "    panel = main_panel.find_all('table')[table_index]\n",
    "    \n",
    "    # 城镇职工基本养老保险, 职工基本医疗保险\n",
    "    _row = panel.find_all('tr')[0]\n",
    "    info_dict = _helper_fun_get_key_value_add_to_dict(_row, info_dict)\n",
    "    \n",
    "    # 生育保险, 失业保险\n",
    "    _row = panel.find_all('tr')[1]\n",
    "    info_dict = _helper_fun_get_key_value_add_to_dict(_row, info_dict)\n",
    "    \n",
    "    # 工伤保险\n",
    "    _row = panel.find_all('tr')[2]\n",
    "    _key = _row.find_all('td')[0].text.strip()\n",
    "    _value = _row.find_all('td')[1].text.strip().split('\\n')[0]\n",
    "\n",
    "    return info_dict"
   ]
  },
  {
   "cell_type": "markdown",
   "metadata": {},
   "source": [
    "## Generate all company information dictionary"
   ]
  },
  {
   "cell_type": "code",
   "execution_count": 521,
   "metadata": {},
   "outputs": [
    {
     "data": {
      "application/vnd.jupyter.widget-view+json": {
       "model_id": "ecbc770c70cd46f19c9f22c3d974667a",
       "version_major": 2,
       "version_minor": 0
      },
      "text/plain": [
       "HBox(children=(IntProgress(value=0, max=10), HTML(value='')))"
      ]
     },
     "metadata": {},
     "output_type": "display_data"
    },
    {
     "name": "stdout",
     "output_type": "stream",
     "text": [
      "\n"
     ]
    }
   ],
   "source": [
    "info_dict_list = []\n",
    "for name, uid, basic_soup, dev_soup \\\n",
    "in tqdm_notebook(zip(company_list, uid_list, basic_soup_list, soup_dev_info_list), \\\n",
    "                 total=len(company_list)):\n",
    "    info_dict = {}\n",
    "    info_dict = parse_basic_info(basic_soup)\n",
    "    info_dict.update(parse_dev_info(dev_soup))\n",
    "    info_dict.update({\"企业名字\": name, \"uid\": uid})\n",
    "    \n",
    "    info_dict_list.append(info_dict)"
   ]
  },
  {
   "cell_type": "code",
   "execution_count": 520,
   "metadata": {},
   "outputs": [
    {
     "data": {
      "text/html": [
       "<div>\n",
       "<style scoped>\n",
       "    .dataframe tbody tr th:only-of-type {\n",
       "        vertical-align: middle;\n",
       "    }\n",
       "\n",
       "    .dataframe tbody tr th {\n",
       "        vertical-align: top;\n",
       "    }\n",
       "\n",
       "    .dataframe thead th {\n",
       "        text-align: right;\n",
       "    }\n",
       "</style>\n",
       "<table border=\"1\" class=\"dataframe\">\n",
       "  <thead>\n",
       "    <tr style=\"text-align: right;\">\n",
       "      <th></th>\n",
       "      <th>uid</th>\n",
       "      <th>人员规模</th>\n",
       "      <th>从业人数</th>\n",
       "      <th>企业名字</th>\n",
       "      <th>企业地址</th>\n",
       "      <th>企业是否有投资信息或购买其他公司股权</th>\n",
       "      <th>企业类型</th>\n",
       "      <th>企业经营状态</th>\n",
       "      <th>企业联系电话</th>\n",
       "      <th>企业通讯地址</th>\n",
       "      <th>...</th>\n",
       "      <th>经营状态</th>\n",
       "      <th>统一社会信用代码</th>\n",
       "      <th>职工基本医疗保险</th>\n",
       "      <th>英文名</th>\n",
       "      <th>营业总收入</th>\n",
       "      <th>营业总收入中主营业务收入</th>\n",
       "      <th>营业期限</th>\n",
       "      <th>负债总额</th>\n",
       "      <th>资产总额</th>\n",
       "      <th>邮政编码</th>\n",
       "    </tr>\n",
       "  </thead>\n",
       "  <tbody>\n",
       "    <tr>\n",
       "      <th>0</th>\n",
       "      <td>8276bd9bbae49966f0a0c2b708775df7</td>\n",
       "      <td>100-499人</td>\n",
       "      <td>企业选择不公示</td>\n",
       "      <td>广州零壹沃土互联网金融信息服务有限公司</td>\n",
       "      <td>广州市天河区黄埔大道中309号自编3-23D-1G(仅限办公用途)</td>\n",
       "      <td>是</td>\n",
       "      <td>其他有限责任公司</td>\n",
       "      <td>开业</td>\n",
       "      <td>020-85200201</td>\n",
       "      <td>广州市天河区黄埔大道中309号自编3-23D-1G（仅限办公用途）</td>\n",
       "      <td>...</td>\n",
       "      <td>在营（开业）企业</td>\n",
       "      <td>91440113331455835J</td>\n",
       "      <td>8人</td>\n",
       "      <td>-</td>\n",
       "      <td>企业选择不公示</td>\n",
       "      <td>企业选择不公示</td>\n",
       "      <td>2015-03-23 至 无固定期限</td>\n",
       "      <td>企业选择不公示</td>\n",
       "      <td>企业选择不公示</td>\n",
       "      <td>510000</td>\n",
       "    </tr>\n",
       "    <tr>\n",
       "      <th>1</th>\n",
       "      <td>a56afb084f6acc807392642ac1a895b8</td>\n",
       "      <td>50-99人</td>\n",
       "      <td>企业选择不公示</td>\n",
       "      <td>广州商品清算中心股份有限公司</td>\n",
       "      <td>广州市南沙区海滨路171号南沙金融大厦11楼1101之一J41</td>\n",
       "      <td>是</td>\n",
       "      <td>其他股份有限公司(非上市)</td>\n",
       "      <td>开业</td>\n",
       "      <td>38392729</td>\n",
       "      <td>广州市天河区珠江新城华夏路10号富力中心2901</td>\n",
       "      <td>...</td>\n",
       "      <td>在营（开业）企业</td>\n",
       "      <td>91440101331388193Q</td>\n",
       "      <td>49人</td>\n",
       "      <td>-</td>\n",
       "      <td>企业选择不公示</td>\n",
       "      <td>企业选择不公示</td>\n",
       "      <td>2015-04-20 至 无固定期限</td>\n",
       "      <td>企业选择不公示</td>\n",
       "      <td>企业选择不公示</td>\n",
       "      <td>510623</td>\n",
       "    </tr>\n",
       "    <tr>\n",
       "      <th>2</th>\n",
       "      <td>827177058fb22f488afa8fcde2fd665b</td>\n",
       "      <td>100-499人</td>\n",
       "      <td>企业选择不公示</td>\n",
       "      <td>广州易贷金融信息服务股份有限公司</td>\n",
       "      <td>广州市海珠区广州大道南788号自编2栋之402房(仅限办公用途)</td>\n",
       "      <td>否</td>\n",
       "      <td>其他股份有限公司(非上市)</td>\n",
       "      <td>开业</td>\n",
       "      <td>020-89000032</td>\n",
       "      <td>广州市海珠区广州大道南788号自编2栋之402房</td>\n",
       "      <td>...</td>\n",
       "      <td>在营（开业）企业</td>\n",
       "      <td>91440101304549115G</td>\n",
       "      <td>15人</td>\n",
       "      <td>Guangzhou E-Lending Financial Service Company ...</td>\n",
       "      <td>企业选择不公示</td>\n",
       "      <td>企业选择不公示</td>\n",
       "      <td>2014-05-15 至 无固定期限</td>\n",
       "      <td>企业选择不公示</td>\n",
       "      <td>企业选择不公示</td>\n",
       "      <td>510000</td>\n",
       "    </tr>\n",
       "    <tr>\n",
       "      <th>3</th>\n",
       "      <td>605a99a34c57eedb90faf44f4a4ecb99</td>\n",
       "      <td>50-99人</td>\n",
       "      <td>企业选择不公示</td>\n",
       "      <td>广州易票宝互联网金融信息服务有限公司</td>\n",
       "      <td>广州市天河区花城大道68号8楼806-808单元(仅限办公用途)</td>\n",
       "      <td>否</td>\n",
       "      <td>其他有限责任公司</td>\n",
       "      <td>开业</td>\n",
       "      <td>020-23339001</td>\n",
       "      <td>广州市天河区花城大道68号8楼806-808单元（仅限办公用途）</td>\n",
       "      <td>...</td>\n",
       "      <td>在营（开业）企业</td>\n",
       "      <td>91440101304623709M</td>\n",
       "      <td>30人</td>\n",
       "      <td>-</td>\n",
       "      <td>企业选择不公示</td>\n",
       "      <td>企业选择不公示</td>\n",
       "      <td>2014-09-03 至 无固定期限</td>\n",
       "      <td>企业选择不公示</td>\n",
       "      <td>企业选择不公示</td>\n",
       "      <td>510000</td>\n",
       "    </tr>\n",
       "    <tr>\n",
       "      <th>4</th>\n",
       "      <td>c621b481afe94c2315e96892254a21b4</td>\n",
       "      <td>少于50人</td>\n",
       "      <td>企业选择不公示</td>\n",
       "      <td>广州证行互联网金融信息服务有限公司</td>\n",
       "      <td>广州市天河区体育西路191号B塔4901房(仅限办公用途)</td>\n",
       "      <td>是</td>\n",
       "      <td>有限责任公司(自然人投资或控股)</td>\n",
       "      <td>开业</td>\n",
       "      <td>020-38084414</td>\n",
       "      <td>广州市天河区体育西路191号B塔4901房（仅限办公用途）</td>\n",
       "      <td>...</td>\n",
       "      <td>在营（开业）企业</td>\n",
       "      <td>91440101304415950U</td>\n",
       "      <td>33人</td>\n",
       "      <td>-</td>\n",
       "      <td>企业选择不公示</td>\n",
       "      <td>企业选择不公示</td>\n",
       "      <td>2014-06-11 至 无固定期限</td>\n",
       "      <td>企业选择不公示</td>\n",
       "      <td>企业选择不公示</td>\n",
       "      <td>510620</td>\n",
       "    </tr>\n",
       "    <tr>\n",
       "      <th>5</th>\n",
       "      <td>986798cb9072b3b3b83376fd42cd0461</td>\n",
       "      <td>1000-4999人</td>\n",
       "      <td>企业选择不公示</td>\n",
       "      <td>国美控股集团有限公司</td>\n",
       "      <td>北京市密云区经济开发区兴盛南路8号开发区办公楼410室-111</td>\n",
       "      <td>是</td>\n",
       "      <td>有限责任公司(法人独资)</td>\n",
       "      <td>开业</td>\n",
       "      <td>59287758</td>\n",
       "      <td>北京市密云区经济开发区兴盛南路8号开发区办公楼410室-111</td>\n",
       "      <td>...</td>\n",
       "      <td>开业</td>\n",
       "      <td>91110000726341576B</td>\n",
       "      <td>218人</td>\n",
       "      <td>Beijing Pengtai Investment Co., Ltd.</td>\n",
       "      <td>企业选择不公示</td>\n",
       "      <td>企业选择不公示</td>\n",
       "      <td>2001-05-25 至 2031-05-24</td>\n",
       "      <td>企业选择不公示</td>\n",
       "      <td>企业选择不公示</td>\n",
       "      <td>110228</td>\n",
       "    </tr>\n",
       "    <tr>\n",
       "      <th>6</th>\n",
       "      <td>a04763e48b63b1179e0bc33dcc2c3eee</td>\n",
       "      <td>500-999人</td>\n",
       "      <td>企业选择不公示</td>\n",
       "      <td>国网电子商务有限公司</td>\n",
       "      <td>北京市西城区白广路二条1号1幢1212</td>\n",
       "      <td>否</td>\n",
       "      <td>有限责任公司(法人独资)</td>\n",
       "      <td>开业</td>\n",
       "      <td>010-52697900</td>\n",
       "      <td>北京市西城区广安门内大街311号祥龙大厦1号楼8层</td>\n",
       "      <td>...</td>\n",
       "      <td>开业</td>\n",
       "      <td>91110000MA0033TY4D</td>\n",
       "      <td>104人</td>\n",
       "      <td>-</td>\n",
       "      <td>企业选择不公示</td>\n",
       "      <td>企业选择不公示</td>\n",
       "      <td>2016-01-13 至 无固定期限</td>\n",
       "      <td>企业选择不公示</td>\n",
       "      <td>企业选择不公示</td>\n",
       "      <td>100053</td>\n",
       "    </tr>\n",
       "    <tr>\n",
       "      <th>7</th>\n",
       "      <td>33e0dddfbe1c996e045fab3faff603cd</td>\n",
       "      <td>50-99人</td>\n",
       "      <td>企业选择不公示</td>\n",
       "      <td>杭州安存网络科技有限公司</td>\n",
       "      <td>浙江省杭州市拱墅区莫干山路972号10幢15层1502室</td>\n",
       "      <td>是</td>\n",
       "      <td>有限责任公司(自然人投资或控股)</td>\n",
       "      <td>正常开业</td>\n",
       "      <td>56000518</td>\n",
       "      <td>浙江省杭州市拱墅区祥符街道莫干山路972号10幢15层1502室</td>\n",
       "      <td>...</td>\n",
       "      <td>存续</td>\n",
       "      <td>91330105679864189M</td>\n",
       "      <td>72人</td>\n",
       "      <td>-</td>\n",
       "      <td>企业选择不公示</td>\n",
       "      <td>企业选择不公示</td>\n",
       "      <td>2008-09-18 至 2028-09-17</td>\n",
       "      <td>企业选择不公示</td>\n",
       "      <td>企业选择不公示</td>\n",
       "      <td>310000</td>\n",
       "    </tr>\n",
       "    <tr>\n",
       "      <th>8</th>\n",
       "      <td>a08c41d74b72505b78d0a959d998a41f</td>\n",
       "      <td>100-499人</td>\n",
       "      <td>企业选择不公示</td>\n",
       "      <td>杭州捕翼网络科技有限公司</td>\n",
       "      <td>浙江省杭州市余杭区仓前街道海创科技中心4幢1512室</td>\n",
       "      <td>是</td>\n",
       "      <td>有限责任公司(自然人投资或控股)</td>\n",
       "      <td>正常开业</td>\n",
       "      <td>0571-88583206</td>\n",
       "      <td>浙江省杭州市余杭区仓前街道文一西路1288号海创科技中心4号楼15楼</td>\n",
       "      <td>...</td>\n",
       "      <td>迁出</td>\n",
       "      <td>91330110311262921D</td>\n",
       "      <td>295人</td>\n",
       "      <td>-</td>\n",
       "      <td>企业选择不公示</td>\n",
       "      <td>企业选择不公示</td>\n",
       "      <td>2014-09-26 至 9999-09-09</td>\n",
       "      <td>企业选择不公示</td>\n",
       "      <td>企业选择不公示</td>\n",
       "      <td>311121</td>\n",
       "    </tr>\n",
       "    <tr>\n",
       "      <th>9</th>\n",
       "      <td>db4033253fe17600f21aa97219cf2181</td>\n",
       "      <td>-</td>\n",
       "      <td>企业选择不公示</td>\n",
       "      <td>杭州慧聚蚁信息技术有限公司</td>\n",
       "      <td>浙江省杭州市西湖区学院路28-38号德力西大厦1幢19层1901室</td>\n",
       "      <td>否</td>\n",
       "      <td>有限责任公司（自然人投资或控股的法人独资）</td>\n",
       "      <td>正常开业</td>\n",
       "      <td>26888888</td>\n",
       "      <td>浙江省杭州市西湖区古荡街道西溪路556号阿里中心Z空间</td>\n",
       "      <td>...</td>\n",
       "      <td>存续</td>\n",
       "      <td>91330106MA27Y81K49</td>\n",
       "      <td>8人</td>\n",
       "      <td>-</td>\n",
       "      <td>企业选择不公示</td>\n",
       "      <td>企业选择不公示</td>\n",
       "      <td>2016-07-19 至 2066-07-18</td>\n",
       "      <td>企业选择不公示</td>\n",
       "      <td>企业选择不公示</td>\n",
       "      <td>310000</td>\n",
       "    </tr>\n",
       "  </tbody>\n",
       "</table>\n",
       "<p>10 rows × 44 columns</p>\n",
       "</div>"
      ],
      "text/plain": [
       "                                uid        人员规模     从业人数                 企业名字  \\\n",
       "0  8276bd9bbae49966f0a0c2b708775df7    100-499人  企业选择不公示  广州零壹沃土互联网金融信息服务有限公司   \n",
       "1  a56afb084f6acc807392642ac1a895b8      50-99人  企业选择不公示       广州商品清算中心股份有限公司   \n",
       "2  827177058fb22f488afa8fcde2fd665b    100-499人  企业选择不公示     广州易贷金融信息服务股份有限公司   \n",
       "3  605a99a34c57eedb90faf44f4a4ecb99      50-99人  企业选择不公示   广州易票宝互联网金融信息服务有限公司   \n",
       "4  c621b481afe94c2315e96892254a21b4       少于50人  企业选择不公示    广州证行互联网金融信息服务有限公司   \n",
       "5  986798cb9072b3b3b83376fd42cd0461  1000-4999人  企业选择不公示           国美控股集团有限公司   \n",
       "6  a04763e48b63b1179e0bc33dcc2c3eee    500-999人  企业选择不公示           国网电子商务有限公司   \n",
       "7  33e0dddfbe1c996e045fab3faff603cd      50-99人  企业选择不公示         杭州安存网络科技有限公司   \n",
       "8  a08c41d74b72505b78d0a959d998a41f    100-499人  企业选择不公示         杭州捕翼网络科技有限公司   \n",
       "9  db4033253fe17600f21aa97219cf2181           -  企业选择不公示        杭州慧聚蚁信息技术有限公司   \n",
       "\n",
       "                                企业地址 企业是否有投资信息或购买其他公司股权  \\\n",
       "0  广州市天河区黄埔大道中309号自编3-23D-1G(仅限办公用途)                  是   \n",
       "1    广州市南沙区海滨路171号南沙金融大厦11楼1101之一J41                  是   \n",
       "2   广州市海珠区广州大道南788号自编2栋之402房(仅限办公用途)                  否   \n",
       "3   广州市天河区花城大道68号8楼806-808单元(仅限办公用途)                  否   \n",
       "4      广州市天河区体育西路191号B塔4901房(仅限办公用途)                  是   \n",
       "5    北京市密云区经济开发区兴盛南路8号开发区办公楼410室-111                  是   \n",
       "6                北京市西城区白广路二条1号1幢1212                  否   \n",
       "7       浙江省杭州市拱墅区莫干山路972号10幢15层1502室                  是   \n",
       "8         浙江省杭州市余杭区仓前街道海创科技中心4幢1512室                  是   \n",
       "9  浙江省杭州市西湖区学院路28-38号德力西大厦1幢19层1901室                  否   \n",
       "\n",
       "                    企业类型 企业经营状态         企业联系电话  \\\n",
       "0               其他有限责任公司     开业   020-85200201   \n",
       "1          其他股份有限公司(非上市)     开业       38392729   \n",
       "2          其他股份有限公司(非上市)     开业   020-89000032   \n",
       "3               其他有限责任公司     开业   020-23339001   \n",
       "4       有限责任公司(自然人投资或控股)     开业   020-38084414   \n",
       "5           有限责任公司(法人独资)     开业       59287758   \n",
       "6           有限责任公司(法人独资)     开业   010-52697900   \n",
       "7       有限责任公司(自然人投资或控股)   正常开业       56000518   \n",
       "8       有限责任公司(自然人投资或控股)   正常开业  0571-88583206   \n",
       "9  有限责任公司（自然人投资或控股的法人独资）   正常开业       26888888   \n",
       "\n",
       "                               企业通讯地址  ...      经营状态            统一社会信用代码  \\\n",
       "0   广州市天河区黄埔大道中309号自编3-23D-1G（仅限办公用途）  ...  在营（开业）企业  91440113331455835J   \n",
       "1            广州市天河区珠江新城华夏路10号富力中心2901  ...  在营（开业）企业  91440101331388193Q   \n",
       "2            广州市海珠区广州大道南788号自编2栋之402房  ...  在营（开业）企业  91440101304549115G   \n",
       "3    广州市天河区花城大道68号8楼806-808单元（仅限办公用途）  ...  在营（开业）企业  91440101304623709M   \n",
       "4       广州市天河区体育西路191号B塔4901房（仅限办公用途）  ...  在营（开业）企业  91440101304415950U   \n",
       "5     北京市密云区经济开发区兴盛南路8号开发区办公楼410室-111  ...        开业  91110000726341576B   \n",
       "6           北京市西城区广安门内大街311号祥龙大厦1号楼8层  ...        开业  91110000MA0033TY4D   \n",
       "7    浙江省杭州市拱墅区祥符街道莫干山路972号10幢15层1502室  ...        存续  91330105679864189M   \n",
       "8  浙江省杭州市余杭区仓前街道文一西路1288号海创科技中心4号楼15楼  ...        迁出  91330110311262921D   \n",
       "9         浙江省杭州市西湖区古荡街道西溪路556号阿里中心Z空间  ...        存续  91330106MA27Y81K49   \n",
       "\n",
       "  职工基本医疗保险                                                英文名    营业总收入  \\\n",
       "0       8人                                                  -  企业选择不公示   \n",
       "1      49人                                                  -  企业选择不公示   \n",
       "2      15人  Guangzhou E-Lending Financial Service Company ...  企业选择不公示   \n",
       "3      30人                                                  -  企业选择不公示   \n",
       "4      33人                                                  -  企业选择不公示   \n",
       "5     218人               Beijing Pengtai Investment Co., Ltd.  企业选择不公示   \n",
       "6     104人                                                  -  企业选择不公示   \n",
       "7      72人                                                  -  企业选择不公示   \n",
       "8     295人                                                  -  企业选择不公示   \n",
       "9       8人                                                  -  企业选择不公示   \n",
       "\n",
       "  营业总收入中主营业务收入                     营业期限     负债总额     资产总额    邮政编码  \n",
       "0      企业选择不公示       2015-03-23 至 无固定期限  企业选择不公示  企业选择不公示  510000  \n",
       "1      企业选择不公示       2015-04-20 至 无固定期限  企业选择不公示  企业选择不公示  510623  \n",
       "2      企业选择不公示       2014-05-15 至 无固定期限  企业选择不公示  企业选择不公示  510000  \n",
       "3      企业选择不公示       2014-09-03 至 无固定期限  企业选择不公示  企业选择不公示  510000  \n",
       "4      企业选择不公示       2014-06-11 至 无固定期限  企业选择不公示  企业选择不公示  510620  \n",
       "5      企业选择不公示  2001-05-25 至 2031-05-24  企业选择不公示  企业选择不公示  110228  \n",
       "6      企业选择不公示       2016-01-13 至 无固定期限  企业选择不公示  企业选择不公示  100053  \n",
       "7      企业选择不公示  2008-09-18 至 2028-09-17  企业选择不公示  企业选择不公示  310000  \n",
       "8      企业选择不公示  2014-09-26 至 9999-09-09  企业选择不公示  企业选择不公示  311121  \n",
       "9      企业选择不公示  2016-07-19 至 2066-07-18  企业选择不公示  企业选择不公示  310000  \n",
       "\n",
       "[10 rows x 44 columns]"
      ]
     },
     "execution_count": 520,
     "metadata": {},
     "output_type": "execute_result"
    }
   ],
   "source": [
    "pd.DataFrame.from_dict(info_dict_list)"
   ]
  },
  {
   "cell_type": "markdown",
   "metadata": {},
   "source": [
    "## Combine base and adv info"
   ]
  },
  {
   "cell_type": "code",
   "execution_count": null,
   "metadata": {},
   "outputs": [],
   "source": [
    "df = pd.concat([index_name_uid_df, \\\n",
    "                base_info_df.drop(columns=['name']), \\\n",
    "                adv_info_df], axis=1, sort=False)"
   ]
  },
  {
   "cell_type": "code",
   "execution_count": null,
   "metadata": {},
   "outputs": [],
   "source": [
    "# add new columns: firm info site page\n",
    "df['firm_info_site'] = df['uid'].map(lambda x: \\\n",
    "                                     \"https://www.qichacha.com/firm_{}.html\".format(x))\n",
    "# save df to xlsx\n",
    "df.to_excel('../all_df.xlsx')\n",
    "# read from xlsx\n",
    "# df = pd.read_excel('../all_df.xlsx', index_col=0)"
   ]
  },
  {
   "cell_type": "markdown",
   "metadata": {},
   "source": [
    "## Write into excel file"
   ]
  },
  {
   "cell_type": "code",
   "execution_count": null,
   "metadata": {},
   "outputs": [],
   "source": [
    "to_excel_file('../sample.xlsx', df)"
   ]
  }
 ],
 "metadata": {
  "kernelspec": {
   "display_name": "Python 3",
   "language": "python",
   "name": "python3"
  },
  "language_info": {
   "codemirror_mode": {
    "name": "ipython",
    "version": 3
   },
   "file_extension": ".py",
   "mimetype": "text/x-python",
   "name": "python",
   "nbconvert_exporter": "python",
   "pygments_lexer": "ipython3",
   "version": "3.7.2"
  },
  "toc": {
   "base_numbering": 1,
   "nav_menu": {},
   "number_sections": true,
   "sideBar": true,
   "skip_h1_title": false,
   "title_cell": "Table of Contents",
   "title_sidebar": "Contents",
   "toc_cell": true,
   "toc_position": {},
   "toc_section_display": true,
   "toc_window_display": false
  }
 },
 "nbformat": 4,
 "nbformat_minor": 2
}
